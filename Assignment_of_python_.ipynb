{
  "nbformat": 4,
  "nbformat_minor": 0,
  "metadata": {
    "colab": {
      "provenance": [],
      "authorship_tag": "ABX9TyP7YyXV5qKB4zIK2qVCEYqu",
      "include_colab_link": true
    },
    "kernelspec": {
      "name": "python3",
      "display_name": "Python 3"
    },
    "language_info": {
      "name": "python"
    }
  },
  "cells": [
    {
      "cell_type": "markdown",
      "metadata": {
        "id": "view-in-github",
        "colab_type": "text"
      },
      "source": [
        "<a href=\"https://colab.research.google.com/github/anjalisolankii/Tops_Technologies/blob/main/Assignment_of_python_.ipynb\" target=\"_parent\"><img src=\"https://colab.research.google.com/assets/colab-badge.svg\" alt=\"Open In Colab\"/></a>"
      ]
    },
    {
      "cell_type": "markdown",
      "source": [
        "#Q1) What are the types of Applications?\n",
        "Here are the types of applications :\n",
        "\n",
        "Native Apps: Developed for specific platforms like iOS or Android.\n",
        "\n",
        "Web Apps: Accessed through web browsers.\n",
        "\n",
        "Hybrid Apps: Combines elements of native and web apps.\n",
        "\n",
        "Progressive Web Apps (PWAs): Web apps that offer native-like experiences.\n",
        "\n",
        "Desktop Apps: Installed and run on desktop computers.\n",
        "\n",
        "Mobile Apps: Designed specifically for mobile devices.\n",
        "\n",
        "Cloud Apps: Hosted and operated entirely from a cloud environment.\n",
        "\n",
        "Enterprise Apps: Used within organizations to streamline business processes.\n",
        "\n",
        "\n",
        "\n",
        "\n"
      ],
      "metadata": {
        "id": "K7VGJFRVPUY8"
      }
    },
    {
      "cell_type": "markdown",
      "source": [
        "#Q 2) What is programing?\n",
        "\n",
        "Programming is the process of creating instructions for computers using a programming language to perform specific tasks or solve problems efficiently. It involves writing, testing, and maintaining sets of commands, known as code, that tell a computer how to execute operations and manipulate data."
      ],
      "metadata": {
        "id": "73X1xnlnPeRu"
      }
    },
    {
      "cell_type": "markdown",
      "source": [
        "#Q 3) What is Python?\n",
        "\n",
        "Python is a popular programming language. It was created by Guido van Rossum, and released in 1991.\n",
        "It is used for:\n",
        "•\tweb development (server-side),\n",
        "•\tsoftware development,\n",
        "•\tmathematics,\n",
        "•\tsystem scripting.\n"
      ],
      "metadata": {
        "id": "StV7SCq_QZlp"
      }
    },
    {
      "cell_type": "code",
      "source": [
        "#Q4) Write a Python program to check if a number is positive, negative or zero.\n",
        "number = input(\"Enter the number\")\n",
        "number = int(number)\n",
        "if number > 0:\n",
        "    print(\"The number is positive\")\n",
        "elif number < 0:\n",
        "    print(\"The number is negative\")\n",
        "else:\n",
        "    print(\"The number is zero\")"
      ],
      "metadata": {
        "colab": {
          "base_uri": "https://localhost:8080/"
        },
        "id": "6U3oFxj5VAP6",
        "outputId": "75cb5ef1-2af9-4b3e-9617-17c52dc74fb7"
      },
      "execution_count": null,
      "outputs": [
        {
          "output_type": "stream",
          "name": "stdout",
          "text": [
            "Enter the number10\n",
            "The number is positive\n"
          ]
        }
      ]
    },
    {
      "cell_type": "code",
      "source": [
        "#Q5)Write a Python program to get the Factorial number of given numbers\n",
        "num = int(input(\"Enter a number: \"))\n",
        "factorial = 1\n",
        "for i in range(1, num + 1):\n",
        "    factorial *= i\n",
        "print(\"The factorial of\", num, \"is\", factorial)"
      ],
      "metadata": {
        "colab": {
          "base_uri": "https://localhost:8080/"
        },
        "id": "bYL3fCxkV-Ka",
        "outputId": "bd6f12bb-9faa-44c5-bfc5-840d6bc32663"
      },
      "execution_count": null,
      "outputs": [
        {
          "output_type": "stream",
          "name": "stdout",
          "text": [
            "Enter a number: 8\n",
            "The factorial of 8 is 40320\n"
          ]
        }
      ]
    },
    {
      "cell_type": "code",
      "source": [
        "#Q6)Write a Python program to get the Fibonacci series of given range.\n",
        "fibonacci_list = []\n",
        "num_terms = 10\n",
        "first_term = 0\n",
        "second_term = 1\n",
        "for i in range(num_terms):\n",
        "    fibonacci_list.append(first_term)\n",
        "    next_term = first_term + second_term\n",
        "    first_term = second_term\n",
        "    second_term = next_term\n",
        "print(fibonacci_list)"
      ],
      "metadata": {
        "colab": {
          "base_uri": "https://localhost:8080/"
        },
        "id": "5-TaeaFOWRm6",
        "outputId": "0e84de38-3fb8-4514-9690-f706139b008b"
      },
      "execution_count": null,
      "outputs": [
        {
          "output_type": "stream",
          "name": "stdout",
          "text": [
            "[0, 1, 1, 2, 3, 5, 8, 13, 21, 34]\n"
          ]
        }
      ]
    },
    {
      "cell_type": "markdown",
      "source": [
        "#Q7)How memory is managed in Python?\n",
        "Memory management in Python involves a private heap containing all Python objects and data structures. The management of this private heap is ensured internally by the Python memory manager."
      ],
      "metadata": {
        "id": "8Lt3Wh70ZslC"
      }
    },
    {
      "cell_type": "markdown",
      "source": [
        "#Q8)What is the purpose continuing statement in python?\n",
        "In Python, the continue statement is used to skip the current iteration of a loop and proceed to the next iteration without executing the remaining code inside the loop for that iteration. Its purpose is to control the flow of loops based on specific conditions without exiting the loop entirely."
      ],
      "metadata": {
        "id": "UPzsAG-aaOjx"
      }
    },
    {
      "cell_type": "code",
      "source": [
        "#Q9) Write python program that swap two number with temp variable and without temp variable.\n",
        "variable1 = 10\n",
        "variable2 = 20\n",
        "temp = variable1\n",
        "variable1 = variable2\n",
        "variable2 = temp\n",
        "print(\"variable1 = \", variable1)\n",
        "print(\"variable2 = \", variable2)"
      ],
      "metadata": {
        "colab": {
          "base_uri": "https://localhost:8080/"
        },
        "id": "XEBcc1xmaXcS",
        "outputId": "5cd5c738-59b2-49f8-b475-e7d45e64b470"
      },
      "execution_count": null,
      "outputs": [
        {
          "output_type": "stream",
          "name": "stdout",
          "text": [
            "variable1 =  20\n",
            "variable2 =  10\n"
          ]
        }
      ]
    },
    {
      "cell_type": "code",
      "source": [
        "#Q10) Write a Python program to find whether a given number is even or odd, print out an appropriate message to the user\n",
        "num = int(input(\"Enter a number: \"))\n",
        "if num % 2 == 0:\n",
        "    print(\"The number is even\")\n",
        "else:\n",
        "    print(\"The number is odd\")"
      ],
      "metadata": {
        "colab": {
          "base_uri": "https://localhost:8080/"
        },
        "id": "iMw9oDbebCpz",
        "outputId": "925d63cb-2cc1-4c3f-dc89-430bf0100a39"
      },
      "execution_count": null,
      "outputs": [
        {
          "output_type": "stream",
          "name": "stdout",
          "text": [
            "Enter a number: 20\n",
            "The number is even\n"
          ]
        }
      ]
    },
    {
      "cell_type": "code",
      "source": [
        "#Q11) Write a Python program to test whether a passed letter is a vowel or not.\n",
        "vowels = ['a', 'e', 'i', 'o', 'u']\n",
        "letter = input(\"Enter a letter: \")\n",
        "if letter.lower() in vowels:\n",
        "    print(\"The letter is a vowel\")\n",
        "else:\n",
        "    print(\"The letter is not a vowel\")"
      ],
      "metadata": {
        "colab": {
          "base_uri": "https://localhost:8080/"
        },
        "id": "JLlXAm0qbPiZ",
        "outputId": "3ea7fee5-03ca-4f6b-db2a-057baf31c1f1"
      },
      "execution_count": null,
      "outputs": [
        {
          "output_type": "stream",
          "name": "stdout",
          "text": [
            "Enter a letter: s\n",
            "The letter is not a vowel\n"
          ]
        }
      ]
    },
    {
      "cell_type": "code",
      "source": [
        "#Q12) Write a Python program to sum of three given integers. However, if two values are equal sum will be zero.\n",
        "interger1 = int(input(\"Enter the first interger: \"))\n",
        "interger2 = int(input(\"Enter the second interger: \"))\n",
        "interger3 = int(input(\"Enter the third interger: \"))\n",
        "if interger1 == interger2 or interger1 == interger3 or interger2 == interger3:\n",
        "    sum = 0\n",
        "else:\n",
        "    sum = interger1 + interger2 + interger3\n",
        "print(\"The sum is\", sum)\n"
      ],
      "metadata": {
        "colab": {
          "base_uri": "https://localhost:8080/"
        },
        "id": "kg5R6Fcdbknc",
        "outputId": "75e75979-9521-4d4a-faf0-f339ddbbcfa9"
      },
      "execution_count": null,
      "outputs": [
        {
          "output_type": "stream",
          "name": "stdout",
          "text": [
            "Enter the first interger: 10\n",
            "Enter the second interger: 20\n",
            "Enter the third interger: 30\n",
            "The sum is 60\n"
          ]
        }
      ]
    },
    {
      "cell_type": "code",
      "source": [
        "#Q13) Write a Python program that will return true if the two given integer values are equal or their sum or difference is 5\n",
        "def check_integer_condition(a, b):\n",
        "    if a == b or abs(a - b) == 5 or a + b == 5:\n",
        "        return True\n",
        "    else:\n",
        "        return False\n",
        "print(check_integer_condition(7, 2))\n",
        "print(check_integer_condition(3, -2))\n",
        "print(check_integer_condition(5, 0))\n",
        "print(check_integer_condition(3, 3))\n",
        "print(check_integer_condition(10, 5))"
      ],
      "metadata": {
        "colab": {
          "base_uri": "https://localhost:8080/"
        },
        "id": "sC8RkaE5b66z",
        "outputId": "b0c89ce4-b309-4df4-ea6e-57a8a52954c0"
      },
      "execution_count": null,
      "outputs": [
        {
          "output_type": "stream",
          "name": "stdout",
          "text": [
            "True\n",
            "True\n",
            "True\n",
            "True\n",
            "True\n"
          ]
        }
      ]
    },
    {
      "cell_type": "code",
      "source": [
        "#Q14)Write a python program to sum of the first n positive integers.\n",
        "def sum_first_n_integers_formula(n):\n",
        "    return n * (n + 1) // 2\n",
        "n = 10\n",
        "result = sum_first_n_integers_formula(n)\n",
        "print(\"The sum of the first {n} positive integers is:\",result)"
      ],
      "metadata": {
        "colab": {
          "base_uri": "https://localhost:8080/"
        },
        "id": "ykXkqzWqFI7u",
        "outputId": "40d34c0c-9760-434c-c45a-875d5795a58b"
      },
      "execution_count": null,
      "outputs": [
        {
          "output_type": "stream",
          "name": "stdout",
          "text": [
            "The sum of the first {n} positive integers is: 55\n"
          ]
        }
      ]
    },
    {
      "cell_type": "code",
      "source": [
        "#Q15)Write a Python program to calculate the length of a string.\n",
        "my_string = input(\"Enter the string\")\n",
        "lenth = len(my_string)\n",
        "print(\"The lenth of this string is\", lenth)"
      ],
      "metadata": {
        "colab": {
          "base_uri": "https://localhost:8080/"
        },
        "id": "9RQ2MD6KGFOL",
        "outputId": "d21bea34-4797-4518-cc13-bd777b681e9c"
      },
      "execution_count": null,
      "outputs": [
        {
          "output_type": "stream",
          "name": "stdout",
          "text": [
            "Enter the string\"Abhishek wavhal\"\n",
            "The lenth of this string is 17\n"
          ]
        }
      ]
    },
    {
      "cell_type": "code",
      "source": [
        "# prompt: 16) Write a Python program to count the number of characters (character frequency) in a string\n",
        "\n",
        "chracter = input(\"Enter the string: \")\n",
        "frequencies = {}\n",
        "for char in chracter:\n",
        "    if char in frequencies:\n",
        "        frequencies[char] += 1\n",
        "    else:\n",
        "        frequencies[char] = 1\n",
        "for char, frequency in frequencies.items():\n",
        "    print(f\"Character '{char}' appears {frequency} times\")\n"
      ],
      "metadata": {
        "colab": {
          "base_uri": "https://localhost:8080/"
        },
        "id": "yZhC-p6jIYX6",
        "outputId": "602a0928-e9ee-4b08-d52c-385878e4e4fa"
      },
      "execution_count": null,
      "outputs": [
        {
          "output_type": "stream",
          "name": "stdout",
          "text": [
            "Enter the string: anjali\n",
            "Character 'a' appears 2 times\n",
            "Character 'n' appears 1 times\n",
            "Character 'j' appears 1 times\n",
            "Character 'l' appears 1 times\n",
            "Character 'i' appears 1 times\n"
          ]
        }
      ]
    },
    {
      "cell_type": "markdown",
      "source": [
        "#Q17)What are negative indexes and why are they used?\n",
        "Negative indices are powers (also called exponents) with a minus sign in front of them. E.g. x−2. 3−4.\n",
        "Negative indexing allows you to access elements of a sequence from the end, using negative numbers as indexes. This can be useful for getting the last few elements of a sequence, reversing a sequence, or performing other operations that require accessing elements from the end."
      ],
      "metadata": {
        "id": "ZAz4AJ_bMMth"
      }
    },
    {
      "cell_type": "code",
      "source": [
        "#Q18)Write a Python program to count occurrences of a substring in a string.\n",
        "main_string = \"anant ambani\"\n",
        "sub_string = \"ambani\"\n",
        "\n",
        "count = 0\n",
        "n = len(main_string)\n",
        "m = len(sub_string)\n",
        "\n",
        "for i in range(n - m + 1):\n",
        "\tif main_string[i:i+m] == sub_string:\n",
        "\t\tcount += 1\n",
        "\n",
        "print(\"Number of substrings:\", count)\n"
      ],
      "metadata": {
        "colab": {
          "base_uri": "https://localhost:8080/"
        },
        "id": "tIIMl_9CMZb_",
        "outputId": "1d8ebbef-bb5e-4f37-fac1-4c18a88de552"
      },
      "execution_count": null,
      "outputs": [
        {
          "output_type": "stream",
          "name": "stdout",
          "text": [
            "Number of substrings: 1\n"
          ]
        }
      ]
    },
    {
      "cell_type": "code",
      "source": [
        "#Q19) Write a Python program to count the occurrences of each word in a given sentence.\n",
        "sentence = \"Keep calm and carry on.\"\n",
        "word_count = {}\n",
        "for word in sentence.split():\n",
        "    if word in word_count:\n",
        "        word_count[word] += 1\n",
        "    else:\n",
        "        word_count[word] = 1\n",
        "print(word_count)"
      ],
      "metadata": {
        "colab": {
          "base_uri": "https://localhost:8080/"
        },
        "id": "33Cq6JHeQx65",
        "outputId": "1ea25d3d-22cc-4c42-d5c1-5a1c67e14f1b"
      },
      "execution_count": null,
      "outputs": [
        {
          "output_type": "stream",
          "name": "stdout",
          "text": [
            "{'Keep': 1, 'calm': 1, 'and': 1, 'carry': 1, 'on.': 1}\n"
          ]
        }
      ]
    },
    {
      "cell_type": "code",
      "source": [
        "#Q20) Write a Python program to get a single string from two given strings,separated by a space and swap the first two characters of each string.\n",
        "string1 = \"Apple\"\n",
        "string2 = \"Banana\"\n",
        "swapped_string = string2[:2] + string1[2:] + \" \" + string1[:2] + string2[2:]\n",
        "print(swapped_string)"
      ],
      "metadata": {
        "colab": {
          "base_uri": "https://localhost:8080/"
        },
        "id": "hZskgmpjSE54",
        "outputId": "314f2d62-8c81-4a0a-c45b-010c164bf0ab"
      },
      "execution_count": null,
      "outputs": [
        {
          "output_type": "stream",
          "name": "stdout",
          "text": [
            "Baple Apnana\n"
          ]
        }
      ]
    },
    {
      "cell_type": "code",
      "source": [
        "#Q21) Write a Python program to add 'in' at the end of a given string (length should be at least 3). If the given string already ends with 'ing' then add 'ly' instead if the string length of the given string is less than 3,leave it unchanged.\n",
        "my_string = \"fly\"\n",
        "if len(my_string) > 2:\n",
        "    if my_string[-3:] == \"ing\":\n",
        "        my_string += \"ly\"\n",
        "    else:\n",
        "        my_string += \"ing\"\n",
        "print(my_string)"
      ],
      "metadata": {
        "colab": {
          "base_uri": "https://localhost:8080/"
        },
        "id": "Rzgb1TJ_S-YD",
        "outputId": "de97c310-98c6-45ba-fb59-38c199e2c9a3"
      },
      "execution_count": null,
      "outputs": [
        {
          "output_type": "stream",
          "name": "stdout",
          "text": [
            "flying\n"
          ]
        }
      ]
    },
    {
      "cell_type": "code",
      "source": [
        "#Q22) Write a Python function to reverses a string if its length is a multiple of 4.\n",
        "def reverse_if_multiple_of_4(input_string):\n",
        "    if len(input_string) % 4 == 0:\n",
        "        reversed_string = input_string[::-1]\n",
        "        return reversed_string\n",
        "    else:\n",
        "        return input_string\n",
        "\n",
        "input_str1 = 'python'\n",
        "input_str2 = 'banana'\n",
        "input_str3 = 'programming'\n",
        "input_str4 = 'abcdef'\n",
        "\n",
        "print(reverse_if_multiple_of_4(input_str1))\n",
        "print(reverse_if_multiple_of_4(input_str2))\n",
        "print(reverse_if_multiple_of_4(input_str3))\n",
        "print(reverse_if_multiple_of_4(input_str4))"
      ],
      "metadata": {
        "id": "skiqRLkET32Z",
        "colab": {
          "base_uri": "https://localhost:8080/"
        },
        "outputId": "5bc25207-e3e0-4d23-c3a2-94210ae32577"
      },
      "execution_count": 54,
      "outputs": [
        {
          "output_type": "stream",
          "name": "stdout",
          "text": [
            "python\n",
            "banana\n",
            "programming\n",
            "abcdef\n"
          ]
        }
      ]
    },
    {
      "cell_type": "code",
      "source": [
        "#Q23) Write a Python program to get a string made of the first 2 and the last 2 chars from a given a string. If the string length is less than 2, return instead of the empty string.\n",
        "def first_last_chars(string):\n",
        "    if len(string) < 2:\n",
        "        return \"\"\n",
        "    else:\n",
        "        return string[:2] + string[-2:]\n",
        "for string in [\"python\", \"programming\", \"apple\"]:\n",
        "    print(first_last_chars(string))"
      ],
      "metadata": {
        "id": "9PEFY6nna1v3",
        "colab": {
          "base_uri": "https://localhost:8080/"
        },
        "outputId": "e4bc322c-e637-4c1a-91db-7ea5e9c3a88c"
      },
      "execution_count": 55,
      "outputs": [
        {
          "output_type": "stream",
          "name": "stdout",
          "text": [
            "pyon\n",
            "prng\n",
            "aple\n"
          ]
        }
      ]
    },
    {
      "cell_type": "code",
      "source": [
        "#Q24)Write a Python function to insert a string in the middle of a string.\n",
        "def insert_string_middle(string, middle_string):\n",
        "    middle_index = len(string) // 2\n",
        "    return string[:middle_index] + middle_string + string[middle_index:]\n",
        "\n",
        "input_str = \"Hello\"\n",
        "middle_str = \"World\"\n",
        "print(insert_string_middle(input_str, middle_str))"
      ],
      "metadata": {
        "id": "qUThwVI0jmvf",
        "colab": {
          "base_uri": "https://localhost:8080/"
        },
        "outputId": "5b1edc9c-99fa-41f1-d5cf-eca76b6bb154"
      },
      "execution_count": 57,
      "outputs": [
        {
          "output_type": "stream",
          "name": "stdout",
          "text": [
            "HeWorldllo\n"
          ]
        }
      ]
    },
    {
      "cell_type": "markdown",
      "source": [
        "#Q25)What is List? How will you reverse a list?\n",
        "A list is a data structure in Python that is a mutable, or changeable, ordered sequence of elements.\n",
        "Reverse List Using the Reversed() and Reverse() Built-In Function. Using reversed() we can reverse the list and a list_reverseiterator object is created, from which we can create a list using list() type casting. Or, we can also use the list reverse() function to reverse list in place."
      ],
      "metadata": {
        "id": "8GgIE7c0kqa0"
      }
    },
    {
      "cell_type": "markdown",
      "source": [
        "#26)How will you remove last object from a list?\n",
        "Using del statement\n",
        "\n",
        "The del operator deletes the element at the specified index location from the list. To delete the last element, we can use the negative index -1. The use of the negative index allows us to delete the last element, even without calculating the length of the list."
      ],
      "metadata": {
        "id": "AezGniZUyZNd"
      }
    },
    {
      "cell_type": "markdown",
      "source": [
        "#Q28)Differentiate between append () and extend () methods?\n",
        "![Screenshot 2024-07-20 212202.png](data:image/png;base64,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)"
      ],
      "metadata": {
        "id": "y_7gfwnN1lEN"
      }
    },
    {
      "cell_type": "code",
      "source": [
        "#Q29) Write a Python function to get the largest number, smallest num and sum of all from a list.\n",
        "def get_largest_smallest_sum(numbers):\n",
        "    if not numbers:\n",
        "        return None\n",
        "    largest = min(numbers)\n",
        "    smallest = max(numbers)\n",
        "    total = sum(numbers)\n",
        "    return largest, smallest, total\n",
        "#for example\n",
        "numbers = [10, 20, 30, 40, 50]\n",
        "largest, smallest, total = get_largest_smallest_sum(numbers)\n",
        "print(\"Largest:\", largest)\n",
        "print(\"Smallest:\", smallest)\n",
        "print(\"Sum:\", total)"
      ],
      "metadata": {
        "id": "YfqaRtIe2IuJ",
        "colab": {
          "base_uri": "https://localhost:8080/"
        },
        "outputId": "0b4a1044-c648-4b84-f029-bebe4120043d"
      },
      "execution_count": 60,
      "outputs": [
        {
          "output_type": "stream",
          "name": "stdout",
          "text": [
            "Largest: 10\n",
            "Smallest: 50\n",
            "Sum: 150\n"
          ]
        }
      ]
    },
    {
      "cell_type": "markdown",
      "source": [
        "#Q30)How will you compare two lists?\n",
        "This article describes how to use the following Python features to compare lists:\n",
        "\n",
        "sort() method or the sorted() function with the == operator\n",
        "\n",
        "set() function with the == operator\n",
        "\n",
        "reduce() and map() functions with the == operator\n",
        "\n",
        "collection.Counter() class with the == operator1\n",
        "list comprehension"
      ],
      "metadata": {
        "id": "ash-Z5Ry3Bok"
      }
    },
    {
      "cell_type": "code",
      "source": [
        "#31) Write a Python program to count the number of strings where the string length is 2 or more and the first and last character are same from a given list of strings.\n",
        "def count_matching_strings(strings):\n",
        "    count = 0\n",
        "    for string in strings:\n",
        "        if len(string) >= 2 and string[0] == string[-1]:\n",
        "            count += 1\n",
        "    return count\n",
        "#for example\n",
        "strings = ['abc', 'xyz', 'aba', '1221', 'aa', 'a']\n",
        "count = count_matching_strings(strings)\n",
        "print(\"Number of strings with same first and last character:\", count)"
      ],
      "metadata": {
        "id": "VGMeEXac3czG",
        "colab": {
          "base_uri": "https://localhost:8080/"
        },
        "outputId": "842e0ac4-0cd9-4995-e58c-e85266d740f0"
      },
      "execution_count": 71,
      "outputs": [
        {
          "output_type": "stream",
          "name": "stdout",
          "text": [
            "Number of strings with same first and last character: 3\n"
          ]
        }
      ]
    },
    {
      "cell_type": "code",
      "source": [
        "#Q32)Write a Python program to remove duplicates from a list.\n",
        "def remove_duplicates(input_list):\n",
        "    unique_list = []\n",
        "    seen = set()\n",
        "\n",
        "    for item in input_list:\n",
        "        if item not in seen:\n",
        "            seen.add(item)\n",
        "            unique_list.append(item)\n",
        "\n",
        "    return unique_list\n",
        "\n",
        "# for example\n",
        "my_list = [1, 2, 3, 3, 4, 5, 5, 6]\n",
        "print(remove_duplicates(my_list))"
      ],
      "metadata": {
        "id": "bJybVN-53ksE",
        "colab": {
          "base_uri": "https://localhost:8080/"
        },
        "outputId": "bed81ffe-2e67-41ca-97da-9938293b33bb"
      },
      "execution_count": 78,
      "outputs": [
        {
          "output_type": "stream",
          "name": "stdout",
          "text": [
            "[1, 2, 3, 4, 5, 6]\n"
          ]
        }
      ]
    },
    {
      "cell_type": "code",
      "source": [
        "#Q33)Write a Python program to check a list is empty or not.\n",
        "def is_list_empty(numbers):\n",
        "    return not numbers\n",
        "#for example\n",
        "numbers = [1, 2, 3]\n",
        "if is_list_empty(numbers):\n",
        "    print(\"The list is empty.\")\n",
        "else:\n",
        "    print(\"The list is not empty.\")"
      ],
      "metadata": {
        "id": "ejSlAYPv3yiU",
        "colab": {
          "base_uri": "https://localhost:8080/"
        },
        "outputId": "4d7ac822-56de-4661-a2c4-625f6f215799"
      },
      "execution_count": 79,
      "outputs": [
        {
          "output_type": "stream",
          "name": "stdout",
          "text": [
            "The list is not empty.\n"
          ]
        }
      ]
    },
    {
      "cell_type": "code",
      "source": [
        "#Q34) Write a Python function that takes two lists and returns true if they have at least one common member.\n",
        "def has_common_member(list1, list2):\n",
        "    set1 = set(list1)\n",
        "    set2 = set(list2)\n",
        "    return any(item in set2 for item in set1)\n",
        "list1 = [1, 2, 3, 4, 5]\n",
        "list2 = [5, 6, 7, 8, 9]\n",
        "\n",
        "if has_common_member(list1, list2):\n",
        "    print(\"Lists have at least one common member\")\n",
        "else:\n",
        "    print(\"Lists do not have any common member\")"
      ],
      "metadata": {
        "id": "l9WOnOJ839VS",
        "colab": {
          "base_uri": "https://localhost:8080/"
        },
        "outputId": "3fe8c5a2-7c9c-4abd-d00a-53eb06083a57"
      },
      "execution_count": 80,
      "outputs": [
        {
          "output_type": "stream",
          "name": "stdout",
          "text": [
            "Lists have at least one common member\n"
          ]
        }
      ]
    },
    {
      "cell_type": "code",
      "source": [
        "#Q35) Write a Python program to generate and print a list of first and last 5 elements where the values are square of numbers between 1 and 30.\n",
        "def generate_list():\n",
        "    return [i**2 for i in range(1, 31)]\n",
        "numbers = generate_list()\n",
        "print(\"First 5 elements:\", numbers[:5])\n",
        "print(\"Last 5 elements:\", numbers[-5:])"
      ],
      "metadata": {
        "id": "BDCZVbrQ4Oxe",
        "colab": {
          "base_uri": "https://localhost:8080/"
        },
        "outputId": "2253ed9a-2fc1-4f50-a713-3ad71a383b2a"
      },
      "execution_count": 81,
      "outputs": [
        {
          "output_type": "stream",
          "name": "stdout",
          "text": [
            "First 5 elements: [1, 4, 9, 16, 25]\n",
            "Last 5 elements: [676, 729, 784, 841, 900]\n"
          ]
        }
      ]
    },
    {
      "cell_type": "code",
      "source": [
        "#Q36) Write a Python function that takes a list and returns a new list with unique elements of the first list.\n",
        "def unique_elements(input_list):\n",
        "    unique_set = set(input_list)\n",
        "    unique_list = list(unique_set)\n",
        "\n",
        "    return unique_list\n",
        "\n",
        "# Example usage:\n",
        "my_list = [1, 2, 3, 2, 4, 5, 1, 3]\n",
        "result = unique_elements(my_list)\n",
        "print(result)"
      ],
      "metadata": {
        "id": "bFLuc0Y-4Voc",
        "colab": {
          "base_uri": "https://localhost:8080/"
        },
        "outputId": "929a8355-f4ab-42dc-93f5-419cb63208ae"
      },
      "execution_count": 83,
      "outputs": [
        {
          "output_type": "stream",
          "name": "stdout",
          "text": [
            "[1, 2, 3, 4, 5]\n"
          ]
        }
      ]
    },
    {
      "cell_type": "code",
      "source": [
        "#Q37)Write a Python program to convert a list of characters into a string.\n",
        "def convert_list_to_string(my_characters_list):\n",
        "    return ''.join(my_characters_list)\n",
        "my_characters_list = ['a','b','c','d','e']\n",
        "result = convert_list_to_string(my_characters_list)\n",
        "print(result)"
      ],
      "metadata": {
        "id": "yUqssGDJ4dOU",
        "colab": {
          "base_uri": "https://localhost:8080/"
        },
        "outputId": "4173a95f-ca81-4145-9c3f-4817e1dccacf"
      },
      "execution_count": 87,
      "outputs": [
        {
          "output_type": "stream",
          "name": "stdout",
          "text": [
            "abcde\n"
          ]
        }
      ]
    },
    {
      "cell_type": "code",
      "source": [
        "#Q38)Write a Python program to select an item randomly from a list.\n",
        "import random\n",
        "def select_random_item(items):\n",
        "    return random.choice(items)\n",
        "items = [1, 2, 3, 4, 5]\n",
        "selected_item = select_random_item(items)\n",
        "print(selected_item)"
      ],
      "metadata": {
        "id": "fz2t8ti64j2U",
        "colab": {
          "base_uri": "https://localhost:8080/"
        },
        "outputId": "493d2f77-b7a8-4d88-b793-d6b0f4eb8156"
      },
      "execution_count": 88,
      "outputs": [
        {
          "output_type": "stream",
          "name": "stdout",
          "text": [
            "3\n"
          ]
        }
      ]
    },
    {
      "cell_type": "code",
      "source": [
        "#Q39)Write a Python program to find the second smallest number in a list.\n",
        "def find_second_smallest(numbers):\n",
        "    if len(numbers) < 2:\n",
        "        return None\n",
        "    numbers.sort()\n",
        "    return numbers[1]\n",
        "number = [10, 5, 20, 15, 30]\n",
        "second_smallest = find_second_smallest(number)\n",
        "print(second_smallest)"
      ],
      "metadata": {
        "id": "3FIC-K024nKD",
        "colab": {
          "base_uri": "https://localhost:8080/"
        },
        "outputId": "0decf7b1-b814-4b7f-f403-86192b589757"
      },
      "execution_count": 89,
      "outputs": [
        {
          "output_type": "stream",
          "name": "stdout",
          "text": [
            "10\n"
          ]
        }
      ]
    },
    {
      "cell_type": "code",
      "source": [
        "#Q40)Write a Python program to get unique values from a list.\n",
        "def get_unique_values(numbers):\n",
        "    unique_numbers = set()\n",
        "    for number in numbers:\n",
        "        unique_numbers.add(number)\n",
        "    return list(unique_numbers)\n",
        "number = [1, 2, 3, 2, 4, 5, 1, 3]\n",
        "unique_numbers = get_unique_values(number)\n",
        "print(unique_numbers)"
      ],
      "metadata": {
        "id": "846yKz8a4qcB",
        "colab": {
          "base_uri": "https://localhost:8080/"
        },
        "outputId": "f76dd320-acb8-403a-c412-17a301ffa565"
      },
      "execution_count": 90,
      "outputs": [
        {
          "output_type": "stream",
          "name": "stdout",
          "text": [
            "[1, 2, 3, 4, 5]\n"
          ]
        }
      ]
    },
    {
      "cell_type": "code",
      "source": [
        "#Q41)Write a Python program to check whether a list contains a sub list.\n",
        "def contains_sublist(list1, list2):\n",
        "    return all(item in list1 for item in list2)\n",
        "lits1 = [1, 2, 3, 4, 5]\n",
        "list2 = [3, 4]\n",
        "if contains_sublist(list1, list2):\n",
        "    print(\"List2 is a sublist of List1\")"
      ],
      "metadata": {
        "id": "sfCjurW34zLx",
        "colab": {
          "base_uri": "https://localhost:8080/"
        },
        "outputId": "5da2514a-c282-45bc-d970-551c5a85c578"
      },
      "execution_count": 91,
      "outputs": [
        {
          "output_type": "stream",
          "name": "stdout",
          "text": [
            "List2 is a sublist of List1\n"
          ]
        }
      ]
    },
    {
      "cell_type": "code",
      "source": [
        "#Q42)Write a Python program to split a list into different variables.\n",
        "def split_list(numbers):\n",
        "    first, second, *others = numbers\n",
        "    return first, second, others\n",
        "numbers = [1, 2, 3, 4, 5]\n",
        "first, second, others = split_list(numbers)\n",
        "print(\"First:\", first)\n",
        "print(\"Second:\", second)\n",
        "print(\"Others:\", others)"
      ],
      "metadata": {
        "id": "zy5mpLvi4-pQ",
        "colab": {
          "base_uri": "https://localhost:8080/"
        },
        "outputId": "e2eb3bb8-52db-4afc-a0dd-3b3a6b9ba1c8"
      },
      "execution_count": 92,
      "outputs": [
        {
          "output_type": "stream",
          "name": "stdout",
          "text": [
            "First: 1\n",
            "Second: 2\n",
            "Others: [3, 4, 5]\n"
          ]
        }
      ]
    },
    {
      "cell_type": "markdown",
      "source": [
        "##Q43)What is tuple? Difference between list and tuple.\n",
        "\n",
        "Tuples are an essential data structure in Python, representing an immutable, ordered collection of elements. They are similar to lists but with a key difference: once a tuple is created, its contents cannot be changed. This immutability makes tuples a reliable choice for storing fixed collections of data.\n",
        "![Screenshot 2024-07-20 215107.png](data:image/png;base64,iVBORw0KGgoAAAANSUhEUgAAAykAAAFtCAYAAAADPCU5AAAAAXNSR0IArs4c6QAAAARnQU1BAACxjwv8YQUAAAAJcEhZcwAADsMAAA7DAcdvqGQAAKYCSURBVHhe7P0PbFNXvi98f6H1yR0PcoXw5cYduYxcjkhHLnNd3pPy4lakFWZEGJGOau5DOJ0gJlVxRVI1VCG9JH1j3iZ5CVGTqklFqOrDJVOVPof0mQYNqQ6pSqo2CNKH+gxjTYNOGw21WucgR6i+jHt4PCfzrrX/+F/sxPmLCd+PlNje2bH3v/Xb67f3WsvL/iaAiIiIiIgoTyzXHomIiIiIiPKCcidl2bJl2ksiIiIiIqKFN1WDrniSMtVMRETpGDeIKBljAhHNxHQxg829iIiIiIgorzBJISIiIiKivMIkhYiIiIiI8gqTFCIiIiIiyitMUoiIiIiIKK8wSSEiIiIiorzCJIWIiIiIiPIKkxQiIiIiIsorTFKIiIiIiCivMEkhIiIiIqK8wiSFiIiIiIjyCpMUIiIiIiLKK0xSiIiIiIgorzBJISIiIiKivLLsb8KyZcsgHrRJM+FH975u8XsqDniOe8RvIlpKZh83ROR4ax+6L2svki03wGxzomyPG8WrDdrE+aN/rsNzHJ58DEpj/fA29iFUWAbv4VJYtMmTxRA4eQidF36A9el6NGzNPifRYplLTAid9cJ7JqS9SmaAcY0dpU/vhmudSZs2f/I1JmSNkVlYdojtt31h4oC+bxbyM+juNF3M4J0UIsofEzGEvxqEr9GL3lFtGmUQwGcXIuIxhuCQH5mqdkRLQwzRa370tjei86I85onobjFPSYq8W3IcxzP+LPxdFJnl79u3D91T39Ihojwjr14mx4uuIzUoW2cUyUoYA2/3IqjNN1PyKuS+fV70j2kTlhw7HtskryobYHU6prjjkhljJuUrebU+OSYcf8OLyo1m8ZcoAidPYviWOt9M3WkxwfFc0jbQfjwb1L9N2kbih3c4aCninRQiyhuGlUUofbESTpGnYPwSLvFuShYG2Pe0icpJF5t60dJWYEHx3jq414jnEwFcuhxTpxPRknfnJymxMAJ/YmMHoiVj+SqYlabnEYS/V6bMTCSAP/5Ze06TMWbSHccEs7yZIozfCKtPZoIxgeiONE8d53PtHB9D+GIvfGeGMDoeE5URA0zWYjz1azecVnnpNElkBAPv9eJcIIiIvL2rzbvz2fJ4h9psHe30zl3ZO3uF0N/oRd+YBWWHvSgtTJ4m1uWYG7HfdqHnYgix1UkdWLVl6r8SRFQsvmGFBes2uVH+KzvMvCdFd5n56DifsbPqRAA9L3ViKGqCq64NW0ebUHs6CNgr0FHtRFqkQPD9ejSdC8P4eA0qoh0ZO5vqnxP/3Gfb8Ng3x3Dqk1GEZXwpsMCxowIVW2yT3j923Y++/7MPQ1dDSrlHgQlW+1a4d7lQlNyPN7nT+wtmDP7TaQx9FRFRT8SutU7s/I2IXau0ebPJueN8Iv6lbsMoRj/qwbsfBhC8KYOUEdb1pdj9jAs2sWLTxUyiuZiPjvOZj8UIBlpq0XtNhIE9XdgTbb17YkISfVknbaMp4kam7ZqIv11w3zqF7tPDarzQBy5JW66s+2YigpGP30VvUryxrHPCvdsN+wzWi+5eedRxPioKxkHUnxhUExRpIobItSH0NNWj2x9Vp0miwDXVdaD3spagSNq8vsZW9H+nTVsQP+CzN+vhuyASlAltkvRdYpmUoCTEboYQONeJ+pZ+hJLnJaJZid0YQf/rPpGgiBerHsWjNsD0+HY4ZC0h0I/+9E4qIqE5/5m8smpF6fYidVoOrr7XiM5zWmVEuhWC/3Qr2j9MrcBH/T4cauzGQECrjEi3Ighe7kVHXVPmWHTrC/hafBhUKiOSiF1yMAAxLaB/3gIJnW1H62m/WmGQYlFlWVtf6cEIYxTdiUTZHD7RqiQoWG7HoxtEBZ8xYV6MnW0VdbKhRLzQBy5pyLIeySZC6BeJY0davAkFBtCZy/8T5WCekhR5R0V2Spv8o3fMjJzvFJm7qHmYHKho6ECX7Ox1rAvevcUwL5cJjC/eIS5y/XsYVhthWl8B7xtax7CuNtRssYqCEUTf79U3tWxXO4/pncn0TrhzuyI4gsCfi1D2Ypu6jPKqxMQIel7rQ3DCAOvWGjRryxTv5BvsQ9fvZtvFl+ju5e9OjRdVL3eg76qIE8tNcO4qE9UMocCBsi2yTIcx9HFATomLDZ9XEhrjhu0oWSligNLZ1Isy5e6ovFOqltX0uzXRqBFOj1bGu5pRsV69Vhr8ZAjxbjA3BtH51jAiotxbNlXGY1HXkTq4HSY1Fr2WofJ/I4hxWyJ2tR1wwSoj7c1hnF/Q9vQB9P9exKHlNrgbu5TPlp2OK9abYFz1PcbEnxYmZhLNn9AZdVCH+M8LXvguyqRDnH9/5UZxgXjKmDAvQsEgzBuT1qOlBi4ZdOV6/K8BTDWW2si7R9EnYophjQs1LVq8kfW0HUUwyv/vmv3AJ0S6RbqTEsS5AVnMzXC94FGadikNtpaLgi4KSOWTsnAnOsSZ1pej7nAH2vY7YREBKRaNIPID8GPzfept129DCzrkpn1nFUofMqnLKMSGBzB0UzwRSVPd00UwyyApKJ1897thF8/Dn19KBDIimh3Z3GBtCSoPt4hKQuJ7UixbSmEX0Sp64QMM3NAmilPooFJBMcO5zREvr7kwPVmJClGpUP7HIP7/+XK1ueqNMMJaBSN0YRCj4rlxkwfePcVKLJIMK21weV5RO/LeHMLAcHolww73s2rskkzr3KjcpjaoHwvPoj39TE1E8PXXQYQjUcQKLHDub0PHoWqUyOUluuPI70lxwH2gJWWQCMaEeWCvQP3epPVYVSS2c4WyXXHtEj67rk6f5NYwBmQmuNyOipfcKFqlbWmDCUXbq+CWlSIOfELzYJ6SlOxDEKtXK0QhH1cfB5qSrpBoP60fqfn6N98m8u7I1X50HqpS/l5VU4va2lo0vReAKBYLzIIHf5oa2sLjysIDV3yoSlv2fS/0QLmOc0MkTrfxti3RnUi/kh//OdaF5tpEv7O4gmI8tUWe1IOiEqLFieA5DMomIOvLUKbccsndgz+1ac80IjlSjSGsnZjHvlUvhaxbL8+46Uyw/1ytMI2Pp1UyVj8Am3bSj7tHff/w2EKOf2pH6S/lhgjD/04r6mtrlHhVdbgHw9dv39VaopmQ/R5SYsLxLpFkeyZ/kSNjwpw5Nk7uzwOjE4/+XD4JijqZMmUykbiNy8RtIgDfC2l1on1V6FEqRRGExhh3aG4W6U5KbiI31KF8YiIZaGzvQ0Dvu1JggqnQBsd66+QClTfG8X38ag4RzTfrL8uUK3zhz87CfyuG4TMDojpuhmtb8YyumCru1R7nQew/tSe6eOVm8Vm2N6DtUAVcDhssK9TliH0n+/K1Y5DxiZYYxoS5icUWNomY1UhsREkWKUkxw6yM9GCF+0jyFZK0n+fURqKBi8PKHRPLtgZ0HRPT32hD2+E6eH7x4KziyPfqbZyEiTF8k+02ZgbmVeowFcZN1ZmXW/nRRwkjogVRUIztT5qBqB9nf9eLc1fEtDUl2Jp2AXS+FP5EvSp69XO/1tk1WQSBP6hXVQtXq802brtrg+hsqUX7sAVuTx28r3UpbcQrZA/jiVFc+ld+WzctMYwJqSLaHY4k+t2fTAKX1bpWiugQLv1BPrHigZ8oUyZbacYqWXs0OlEt62gZ60Ts60Zzt0hJihVbXTJqBNHb7sNwMBov4LFoEMMnvKg51IreQLbGXDFEg8PwnRwUYWAyg3aRInh1NCVwWGzq0IHRix+g90ttVI1YBMNv98CfVpCnYih2wblCvM8FHzrOjiRG/5AjYXzZj46Xa9D05pBYOyJaSLbtajv04PlBUd6McO5wIa0RiCACghITQvj632ZfMbdsKoFNfFb0sg/NJ4fjzTljN0Yx0P2qOtrQCidcxXlylXQl8NdgBCE5JKge7/D/QL9Yaiz4kfpEyBYzie40jAlCoU0ZYlwmGB+8P4KIWtlB5GI3ejIMvxwX6EH7u/7EeoyPiDpaDwKyfrT2MTy2Wp0+iUgOXfIbd8Xn+V7vx4je6kWQ79HfXoualk4MsVJEc7RISQpgeuJ5VMrRMq6LZKNJbSst2y9W1TTBdzGE6D0PwP73spQB9o3FSnIR+rAJVc+rbRxrmkRyEzVmbO617iG1fWj4fKvyvt6z2pWDh55C2VrxOBHEwOu16mdW1cInCq1RJB05W16E8v1yNI4oRs50oF5vg/l8Fepf78PIDeDHdps6EhERLRyjqAAoX0cvFLrgytQ0HGY8/JB6JTPwTq1SVvVRBmdkZQmqnyuGaXkMoQs+eLVyX/VyK3r9oqKz3IqylypQtBBRdKwPXhljMv7I76bKwFSCXbJPSkq8q8cpefFHVpw2JipOWWMm0Z3mbokJUyrCUzvU20fBjzpQWyWXqwq1J8RKrshUa1IZxd+Cn3Qn1uNQBwZkYmEQ6/GPJRmSvYSindXKSGDRq33o0PoP6+/Rd1Vsi//yMGysFNEcLWJRMqF4/1E07y2BrVAb3UswmKxw7KxB2+FyFOkjTKyvxGGRFNhWanPJLyTbVInmI+VYJ19PpF77M2ysRPVmK4za7PfqlwnFZ5a82IzKTYm/GVbZUPJsPcqVN8qdweZGQ2sN3BusMOkd4OQXF8mRiF49iprNvK1JtPBi+EG74Wrf5sr6ZYfWX1Wh3G6GQYlwhnj5nymjoxIthz2i4mNJvIf84rYNbtS0NqD0fm1anpB9UpqfFTFWj51ytDR7GWoaUytO2WMm0Z2GMUEyPXFA1K+csGp90VBghm1zJep3Za/srHumGXU7HYn/kXUaGS9acliPAhvch9pQI//fpG8IsV0LRR1rbzOOHijJui+IcjXHb5wnorvVbYkb+jcrr3KhrsmtNL0govzAmHBnSHzj/OTviyFaTHn0jfNERHMRg//MgPIdSTbXVlZGiO56jAlESxmLNBHdGcYG0Hc5qrRB3755qtbSRHRXYEwgWtKYpBDRHSBxxdSyxaV+IzIR3cUYE4iWOvZJIaJZYdwgomSMCUQ0E+yTQkREREREdxQmKURERERElFeYpBARERERUV5hkkJERERERHmFSQoREREREeUVJilERERERJRXmKQQEREREVFeYZJCRERERER5hUkKERERERHlFSYpRERERESUV5ikEBERERFRXmGSQkREREREeWXZ34Rly5ZpL4mIiIiIiBaeSEO0Z5PFk5SpZiIiSse4QUTJGBOIaCamixls7kVERERERHmFSQoREREREeUVJilERERERJRXmKQQEREREVFeYZJCRERERER5hUkKERERERHlFSYpRERERESUV5ikEBERERFRXmGSQkREREREeYVJChERERER5RUmKURERERElFeYpBARERERUV5hkkJERERERHmFSQoR0R0vCv9bXnReCGuviYjmX+hsE5pOj4qIQ7Twlv1NWLZsGcSDNmkm/Oje1y1+C8vtqHy9GsUFyh+mEETvoSYMjMvnFpQd9qK0UPnD7eHvxr5uPyw7vPBut2gTswuda0Lz+0H8aFM1WvbYYZDTzor/PRNKeo8YAicPiQrDD7A+XY+GrdO/L9GdZvZxQxS7t/ah+7L63L63C9UbZUmaWvD9ejSdUyvhuZbXhaPFvsIyeA+Xikg2HT1WOuA57hG/55esOHjPBGHd3oC6HVYlLuki14Zw7sx5XPq3ICK31GkGkxXrNj6Bp1xOWE3qNKK5mktM0M+j2ODB8efmu4TcufTt4vAchyeHzTK5PjJ/oqK+VC/qS9hQicPPFsOUfJk7Fob/XB/ODQcQHIuKWpBgMMKyxo7iLWVwOcwpcYlImi5mzN+dlIkAzn0a0V5MIXAeQ0qCcicKwT8UVApf5MJnCKgTMwjgswtyW8QQHPKL/yKibAIfD2LayCHiy/nPeJcgoy97cFQkKLCWoTI5QYkFMfB6LWpbejAQSCQoUiwSROBcD5rqatHNuy9ENJ0bg+h8y4/oimJU7klNUCJXTsFbU4/uM8MY1RMUKRZF6Kth9HXXo6alF6O8/UIzNK/NvYIfn4M4VU4hhuFPhubvNuFYP7z79mGfKDiLwwKHU60EmDY9Brs6MQM7HtskL08aYHU6Uq6yyivI+/Z50T+mTSC6210bxLmpAwdiw+cxNG+BQ97VEOWwsX8JXEAIof89EVOX21C+P+mOzoSY3tqE3i9F+mewwPlMHZo7unD8+HHx04WOV+tQsckCw0QE/pPN6PYvXu1BXundJ7a/vCC7eJbSPqc7xe051hdCDP7TfRidMML5bCXsSS1m5N2VxjcHERKZiekhFzwNHeg6JuOM+HmjAw0eF4pEdSh2bQCt7aL8TWj/uOBuT5lfOvs8P8xTkmKE0Sgexodw1h/PoScL9qHvinic19RocVm2NqBLFL42ralXZgbY97QplQE29SLKzqgEjjCGPvQnrr5NEkTfGe2+5R0cOxbElwMYGBPb0VmGkpXaNGHk3aPok4nfCgc8R72oeNwGs1GPWAYYV9vg3ONFy16HiN5R+N/pxciiVR6I6I4SGcK5y1FgbRmeekibJul3V8RT6w4v2l50w2E1wqDH6QIjrA43aloa1Gb9og7Y80kOLW6INPN0yl8H1xZZGRcnuw+zN90IfDwkqiPihLrROQ9tsmMIX/njnXVVLBLAH/+sPScirNviUq7+Ry+fxeANddokehNRoxPOn6uT5iIi4sY0N27uGCOXZQXBIuJvkTZFuDGA3k9ltcGC0pc8cMg8MAvTxt0oXWuAuTCG8W+1iQspFkbgT4sftZfSPqc7xG061hdC5PIljIpHx5YSJHdhC5yRd1dEaHZU4sBU/V8MVpTtdMK0wgrj//5m/lrTTOG2lPkltM/zxTx1nHfA88Yj+OxFHwITZrgamuG2arPobg2jM/53N8JN8v9SO87rnWkndxBL63Qqm3k19k1OUAqTOrFGRjDwXi/O6W2xlxtgshZj57PlKF6ddA8kqeP8gbV+nDzZj8C4vKZrgHGNHaVP74ZrXVKxzNDRPlNHNX2avi7JHYWTyb/vHm9C7WlRnOwV6Kh2Ir1OoXcYNj5eg45nkiojRLfRfHScd3i68MiFKviuAOatDWh+Oj1wxDD8ZuLvblFW5P8llzWl2aeMB8nlX5NaNse0OJIuuTN7DOGLvfB9OBzv/GlYYcG6J3dhz7aipHbYWkySn/mSDf6Tv0X/n8KIiRO2QZyI7dvc2P1khvlTPkujxar+K0FExQcqn7fJjfJf2WGe8jJSCH2veNEfc6HuiBs2bWrkfCtq3xNVChFPukQ8yX7HdwoTEQSHPsDJM2I7RLR4WGhF8bZKuDcmd4BNWq+OrQi/04M+f0jdDvc7UPaPFXCtVSOavi/SpexLffufGcKojMNa3H7q1244rUmRMXmfv2DG4D+dxtBXEfHfYv61Tuz8jYjzq+SM+vKlS9oP0VEMvPNu0vaX+283KrbYJsXiScR2Gvn4XfT+SyCxnTKdN4TI1QG8+/45BIJiOeVdqwITrBt2wrO7GObkU1K8bHRg63gPes74EZLnsAILHDsqcluu22T+O84nylnDfjPOv30Kw9dEuRTHhcVRhopnXLAZwhh+txunPtf23yqx/X9TKZLvpK0UP283oGrVeXSfFsf1TTFz0jY1XB/GqaT3N/+sFJWVpbDF32aKMqy9v77suRzruR4PibpEF9y3TiWWXS6jzYmyPe6UOk1qzEuKhvqx+qE4VuX/y07t65xw73bDrpSV7Ia798Hnt6PijWo44029RtBT04GhqAmuuja49QA0Q7HrfvT9n30YuhpS9p+yHexb4d6lNhPTJa9X1epB+N4XMeKGXA8TbJt2onKX2G5KvMyhzAsxsb97T4rPHdXitknEtx174H5cJFLaPCn7fB7iW/jzU/D9LhHblP0Xj1V3p8XrOF9QjCc2yp0VxtDHk7uUhz4SlX9ZENeXoSy9HjLfxAmsqa4DvZeTOotOxJRRbnyNrej/TpuW5C9+Hxrb+7QERYohes2P3vbGBW+vbXp8u3q1M9CP/vTUP95h2IrS7UxQaKkxoHizmpiHPzuvxohkYwOi8igel9tR9suFDhwxBE4cRP2JwZTOn7GbIQTOdKDxbbVZQ4pbX8B3uAN9AfVEJ8VuBuE/nWX+dN8lYpVyghaUzzvXifqWadpvTwQRui4ebQ/GExTpmz/La54iqVsjKl7KsxmS/VmOHELTO0NaxVsS8XBsFIMn6nFQa96Ragxn21vFeqgncCn2nYifr7XPoP+dHEZZ2/56HNbidk9TfeY4LLd/iw+DSoIiifm/EhUYMS2QNFBAVnJdleVO3v5y/7Wi/p0RdUI28n9batFx2p+6nZTzRi2aziYqLKEPm1Db3gv/Na1CKt0SieAFH+pbM+/nsbPtaBXvrSQo0q2QslztH06uCC15kQG0N/owJBMI+VocF6HLvWh9UyRxrfXwXUjaf+MB9GU57r7/uF0cX+K4lpV0SdumnaLy2Zr2/uFAn9qHQplxfs3ueBDHZPKyy2WUx3qWOk2K5GNV/3/ZqT0wgM6Gpmn+P4SQvMtaKOJM8uit10fxjVIkH8QDP1WmzFhU1LsONXZjIKAlKJLcDmLfdtRlXi5ZV2t+W8QImaBIsQhGPxHTTga0GDA92Y/m4CsybiTF7UgQQ+80oX6B4pv8TGW5k2Kbsv8aWrO3IqD5beFtf9IJs3iMXkxruiEq2gMfyaJuhHNz8exOnMkKS+GVnbL02y3y6oV8rV1FjVz/HobVRpjWV8D7htaBq6sNNVtEJUec2Pt+PznHjgRFdrCuDDVHtM6lb3hRuVFZG/h7euDP5YQ3Bcdzcjm8KFPuGsk7SOpyKatQIDJypbnc5ARP7zBs3LA9pc050ZJhfwJOeSUpOoSzae2VA/8yoFQSjBufyGF48+nIK2mi3B0uU++2FJapcSR+dW0M4ZurlCYJrhfblL5nsox2NVbAvkIs3uU+DKafkG4EEUQRyvT5j3XBu1e9ohe9LCpQU/XRmxhBz2t9CE4YYN1ag2YtVnUdqUHZOpG2BfvQ9bspGixcD4slFslIYeoY7jHtIw33qI8zNSL7s1wTb2JKWy9PCawieEcvd6PzfHqj3pDYDq54/Ox6Vd1mMt6e/1RNmizbvWrM26C8VO4iy9fxK8vnO9Et272bHKiQnW/1z1W2p0xgfBhOj8Ni+4/bEnG+7YALVnlWuzmM85flhphmnwf61b47a93x91D290ojVt0Ym7K5iLKd5AzJyyvPMzuKlKQ7eMaHAeU8GMH49wZYVphgf8Yb71Qs97NL5t2yr+Yf5HypZMUwfhx2NaNivXxXMfsnQ0rTm7tKVBwXdn0/d6HtRW0/fzWEoW+TyusbDSiV21QcdwMfTU4yozfF2+j7QK8TCKOfisr/T5KO30Ol6vsHBzDwpTLLjEx9rM/yeBB1FPPGysRxqscJWac5PnUypR+rhjViHVu0Oo5+rMr/7+qd4lgfUy+GWMwpd6khKut/1Z7G+6DMhNKfZRgREf8sm5LXqw5uh0ldr9d6JvWViwTHYdO327HEPoxePK/Fh2nKvN6PZrkJjmca0NGlfW5jJYpXq/HNdzE9bs81voUxeFYmP2Y4PXqZVpfdKOp1oSD76WQzm0MrO+tWuNaKx4lRDHycOOTjI/OscuKJ7ENizRvT+nLUHe5A234nLKJiE4tGEPkB+LH5PvU23rehyQV6lQvVL5aiaKWWQhVYULxXFJY14nnUj0t/UicvFMuWUtjF3ohe+EA7sUkRDCpJiziwtznmntwR5SUrtrrUewGjA0kjBN4SFc2LMnCI4//JRQgcYjlKqhvQ9loD3A+ZYJiIIRqJ4Id7V8EsT0gianwzKXCY4dpfg1I5v3wpm6GIikSd0mxNVKw/zz5QeWx4AEOi0oT1FWL+Ipi1JMywsgil+93K6IHhz9W24FNJT0YMWqCI/af6OCMTfgwqwdoK96G09XKUo8Gj3vVK2U8KE1y73fH4aVjtRPUuNfWLjOcyxHEQ5wbkmort+YJHadqVvD0rn5SVlgAuKYlHMjvcz6pxXjKtc6Nym7y4JKpW4RkMrXzja4x+G0YkGoPhfrHsRzrQUC2SMu3Pk6Rsp6TlNZhQtL0K5RsscOx049H75ERRGd1VB+9rbah+3CIqdNpxdc+PYb5PTTzGvptcxTQ9uVs9DuULgygDz5drlawwwhmutC9tyfvZANNDbmzV+qelbKcCK8p2u5R+E9E/jyp9YFPY3fAo+0A8l/vq6a3qNk0/fteUYbc85kQZ/ubPMziOcjK740EmafUiYdePdSVOvFgJp/yXsWH4s13RF3F0QB6ry+2oeEms4yp1HfVj1S0DzfglXJou0IiymEJsw3u1p/G7QTMQujCo9mfZ5IF3T/J62eDyvKLWvW4OYWA4rcwn70ORaBTtrESpSC5kMhXO4estgh8PKJ9r3vKCeB+RJOib4/5iVO5Vj53A58Npd2XmGt90ckjmrzEWiSJ2j1x2kSS11KF8vfxUymR+kxSxI0u2pTfdCGHgQ/VEbf9lafagP88iV/vReahKGQquqqYWtbW1aHovIA6RzEyOR2CbtDVEMLFrJ7xMQWM+FRTjqS3ys4IiMdFO/8FzGLwmHhejiRzRbWTavF092Y4P4bxWr483EbWXqldHF0MsjOGTTaip2od9z1ehRsSN2lc6Jt9B0a104JEMbbFNP3tYVLeFTBdENOFx7Yx6xYcqOVRm8s8LPer3MN0Q/z/NXdz0ZOSBn6oLFL56dfrvn0l3PYQxuc0LH4E9051b+8NYJx/FiTn11JyhyYdegwmFs26DBPF+yuYIY6ApbVuIn9aP1DX55tu0672rH0htgiLdo1YkwmM5tMMQx5YSW8f9SrOh2hpxzhD73XtyGOH0fCjZlNvJgOLnvPBsSeqTJPsDnO1E/QtyfbTjqrYJpwLZzkhii2r7MS5eSRSVMXll+26S3tRI0K/eP7g2bTsZjfixfBT7L30XWmxpTSDj2/RBPJj2Nj8yKu+Cv05MdSDM0iyOB/uGYvUiazKReBQpBTLTBRSNSGrH5bEqknyf8nnJP1XoUQJNBKGxadYzfTustuEBZYGuYuSqMmVGxkRslNatz3QBStS9fq7etxlPSwIyNWNVjwURZ/5deTmlsPZ+4XNNadtC/LQOqDFTLFtqpJlrfDOjZLs6kuLoR91oqq1B1fOibvpyJ/qv8i7KVOY5SRGSmm6clxlwQB0iU47Mo/ZZWXgxcdJP6V9SYIKp0AbH+uQOUfnH+ssy5W5K+LOz8N+KYfjMgCh2Zri2zUMTOaJ8Jk62TzymNq8c+mQYseQmok9MHkxiYcjvFklu326AcaXsxFkM223r2DiO77O1V15thmzolV4ZN/33R9SLQV8N4Ny07YLE9n6zBrUtnRhKq/9PJ/3q6ayafMxQ5Mb32jNN+tXdmVpuQemhNjQ844JjrUW9qioqYyHZN+D1HL5kNCcxBE42ouNMAGEt4TSYTLCsdcCePBhAOr0SREvMLI+HBTYukpnMCmGRdyomVcaL8Mh/l8srYshHOXz/3WgvvC950Xo6+8XiTNIvwsy2GeuMiG2RFmnmHN+MDg+OvupB2WY7rCY1bsVuBNDX3oieWTQpvFsswGnFiq1Pqpc9A2d6cUr78kbzY08oFfBchMfTTg1jIaXtda4CF4eVz7Rsa1DbLb7RhrbDdfD84sGscT/i/0K5BZgqBP9lteBarSmtMRdGQTG2PykqalE/zv6uF+dkh+E1Jdia4Uot0VJjfVJrXnOlD73/PIsmohHtimES/WpdTsb8GJYVdaMDFUrb4y50HBEV2OpyKPlTJjf8+CJDIhDy+9U7DT99ILUddxLzKjXzMW6qVtouZ/5JjH44yXKrWnkY/Tq1SdjKEjylDWIy8GY3hqeoaUc+70HvlSgi4/dh1U/EhNUWFMo4na35SOCPUC6arjLDMq9nD7PYHvLRCveRTNtB+4mP+jQ/gp90oqmuHZcsbnhqvUr79K4jFepAJl9dwhfZtl18O32BQIYkcvS0FzUi8VPuhCOAz5RmizIh0tq0t7XBW+vB9rXMRO48YYTT9nnouxnVUGZ1PAQuq/WaFLdE/FEKpBUPyPKbyUozVslj1ehEtdb/JdNPykhgKSywyPceE3Em7a6u/Rda36BAD9rPBCfduYqLBdH37gBCN0U8Nj+gXHQq/In6eVc/z/QdWREE/qDG7sLV2YLv7JhF7JKsO+V32WXeFol+ivMkEsCpNi8Ono6iZHc1GtrEfj/WhYZtchtERT1zmkE67mLzeprRxUerGh/EoDIyjw0uLXGZyoN/r9bGgx+exNB32mF7Sxzcb2cYbljSbuvjzyMYzVo6pBiiwWH4Tk5xZWx8AJ2v92NEGzEiFg1iqLsdfTL2rHDCOS9N4sXyKoscwtf/lnlJbNvVvinB84MIyqvIO9Q2kkRLnqhcb9+gVq4HtTZfNtdWNXGZSqFNHSY0OoQP3h+BOtBSDJGL3ejJMOx3vC31dXHSnaICr7gVxsjZ4+jN2pxBJgId6P9SG10qFkXw0260/15GLFF+N2YPHIZiF5yyQ/4FHzrOjsSvqiqjvnzZj46Xa9D05lBas4NkFqyTHWdvBDCSUkcywL67Ek4ZOG764TvkRc9HIwjGh8+R8dCP/re8OKSMQGaE4xk3iuTZYLkDJUq7uxD6XktaL3l3wX8KTd3qRaec9ksWep+Z4NVR9b0Ver+kIHrbfSJZTBpdTcTi4ROi0n+oFb1TNIeZUpZ9fh/+imAkpAwBrcd+OfKA+swIQ3pTMp3YTlvlBSW5vC3dGBBvqvyPsv870flRCFGR+BVm20hyvos++PjFdneQB1Ek+9yKfd7/7lC8GWbsWh98SnmfLPOxnkEux4NIBJpPDCc+d3wEva/5oAx6t/YxPKb0y8igoBguWaZFfPTJOk58BFP1Pfrba5WEeqo7qUXrZNkM4I/pfXMLS1H5K6tSrQmebcKh13sxrA3pqxDxc/TTU2g91KSOXGotQ8VmtUZj2VSiNLGPXpYjcyWt141RDHS/il6Z4Iu6l6tY24gzlaXMW590KZ8bfL8VvouJUeH0feB9qX7Gd3uSZdznJrH9x0RMuNIL36f6CGE/4C//ofwV9xb8nfqEJpGnpflX4MD2pEuPxo25jUxl2lymnLRxM4Cew2p/kn0viIP7W+0b7dOte1i9OyOSoVbZhrxRHeHCvlFtuymH+ZPt/pQ2n03ixBcV7yP/LwOTVZxNrvaJioHej6UJPX55ZCedwOfMjIcfUrdL4J1a5XPk0OopjKJQKpUEodAF17wkR0R3AgMc29QRAhWiLGzXTmhTK8JTO7QLHB91oFbGAlHma0+IwrUiQ4lf/TCK5FX7CRFnauW82pj6hQ4Uy0pl1I8eLQ7se6EeHWe+Ee8jZ8hgpVVUr0fQ93qt2q+kSiQW7/gRESch44YKuJO/nTnd8iKU75dXIqMYOdOhtU8XP89Xof71PlFpBn5st02ZDBRtkO2cRSU7fSSjAjsqDtfBtUacMWMhDJ3uQJPsbyHfX4mH3eiTw2kuN8O5/zA8Sd/4WLT7IMrk/0WS1kv20+geRFCcdY0bPKh+YvaXTtY9pAa18PlW5b292lC9pieeR6Ucwer6MHxNNfF+OjIW+y6KE/w9D8D+99ki+DSy7HPT47vUPinBgUTsf+UUZC5kfFwkkdmSFMH2dJW2nfzobU3e/6KCs9yE4vh5w47HlDtbchhYbR/I+USFM5rxxEb5yYSSX6pNT6NXeuDVymtVSz+CYj9m2pOZj/XZHQ8WUUcJy0q0/rmHOjAgR+FbbkXZP6Z+yWK6op3VyshhUVnH0frq6u/RJ/tE/JeHYZsi0Jg2PKoMc+7/aPKFXsvWBnj3OJT+V5EvB+BrrdfqXeJHxM/WdwaVJMG4zo2GutLEHdiVJah+rlj8n9q8Mr5eL7eiV9a95Hq9VDH7ule2OC8+9/k9dhgnwhg+ofU/lMuq7YOQKPsP2NdlrStOJ/M+t6HsGbVPSuAdr7p9nq9Fx3nxt+U2bN+inr9osnmpemcSb7ohqhw5j8wjTtoVjTUos5u19n/yi7EccL8kClimElhQjMr94nNWaKlrgUHJ6A3rK3FYnPxt+khdBiOsmyrRfKRc7fSZoSPcjx3ifw6Uwa6PfLHcANMaJypfPZpyAp8r66+qUJ68ftrHJcTwg5bC27ep38ZNdNewbkWJHNVFmEkTUdMTB9C815kUC8ywba5E/S6lxKexwl1VnijrIj6ozyworWtQRmbS2x/LL4Yrq23Gwc1a6qSPuakreASVKTFL/I/JCufeZhx9Tp6UpmawiRN3aw3cG6ww6RVi+SVra0uU2FOzeZoI8JALrkJ5kbRv8lj7RhvcohLSVleBkrWWxPvLuCOSK8cOD7yvy6Ft04Kr7KfxcgsanhHbU2s7rfxPoQ0lOa7XVAwbK1G9OTGqzr36pUdRzSref1TsxxLYCvV9IuYX29OxswZth8tRNEXSMLUs+1zpk9KMys02xFdVHDv2HTU4vHua76XStlPNTkdiO4nzhlnuu8MtqIyfNwyw7zmM6q2Jz5BfGOl8VmxL7fic1UhstPgeqkitJ8i6xQY36p53QRnILU3mY312x0Ph9rrUGCfjhL0MNa0NKL1fnZRVgYwFbanHanKZPlAydV3D5MRWeZf7qz58kKH/hHmTB22ve+HZId5/ZaLsyv7AMpZV1LWJz3ApQ5gnk99U33LYA5dd6w8mKV9q6c5tvaaULc6L1dlYjaOvVipxcfLnNqP8obQFnYFs8U32SWmudcNxv/7esn4r6piHD/DrJaYwx2+cp3mnf5PyKhfqmtwZRhwjyg+MG3niyx7UvD6E6NpytNVOfUWVaCExJixhNwbReugURo1O1LTN4Q4HUZLF+8Z5mgcx+M+oX14n23wzQSGiaT1UgYM7rMBXp/BG0recExHNG6V5lgPGm0M4rvRlI1p4rAbnk7EB9MlvXM65LT4REWDZfgCeDRbcZzJM3UGXiGiWZJMleUFk1cof4a+TRkMlmn9s7pU3YvC/dRDdIkmx7PBOMRwgUX5g3CCiZIwJRDQT08UMJilENCuMG0SUjDGBiGZiupjB5l5ERERERJRXmKQQEREREVFeYZJCRERERER5hUkKERERERHlFSYpRERERESUV5ikEBERERFRXmGSQkREREREeYVJChERERER5RUmKURElFX0q140tfQjNKFNICK640UxeroJTWdD2mvKR0xSiGiR+dG9bx/2NYqKrzYln/jfEssmlq/br0242/i7lfXf95a6Af56I4zxa304+rZfnNaJKCut7HjzsuKrxd193eLZ3SiE/ka5/l70j4mXE39F+MY4gmeOiljPyJavmKQQEVFWpn+oROVGI6KXu9F5PqJNJVpibgyio0pUYl/pxSjvGi59y00o3lOJ4hVR+N/qxOANbTrlFSYpREQ0BQPse/bBuQIYPfMu/Le0yURLyZ9HMBITj9cDGLmuTpJCZ713953VpazAjspnnTBOjKLvtB9y91N+YZJCRERTW16Ep35pA6J+nLvAuym0BP03C8zycbkVDxQqU+hu8NBTKFsrQtvlcxhiaMs7TFKIiGhapk1PwC7OGKP/9xfguZyWnPsfhE3WiGwP4gF1ChALI/Andqxe2kxwPm4Xj6O4dJmRLd8s+5uwbNkyiAdtEhHR9GYfN2QHzm74C8vgfckG/8nfov9PYcQmAMMKK+zb3Nj9ZBFM6ZdQIiMYeK8X/VeCiMbkvBas2+RG+a/sMOdyuWUigpGP30XvvwQQjMgb+wYY19hR+vRuuNaZ1HkE2XG++zLgeLYNj31zDKc+GUVYNnEqsMCxowIVW2wwqrOqtOU6FwgiIudbboDJWoydz5ajeLVBnUeQzUa8Z0Kw7PCiavUgfO8PYfSGXBETbJt2onJX8aT1iFwdwLvv9yNwLao0RTCssqFkVxkM73egf8yCssNelCZf9Z3JNpoIY/g9H/ou6utnhm1jGSr//gvUv+0HNnhw/DmHOq8ihqHOKvQEHKg85kFxLtuc7ipzrkuklyWDEdb1pXDvcqEoUUSV5GH4tA/9l4MI3dTKcuE6uHbvQWlSWcZYP7yNfQgViljzghmD/3QaQ19FxJEsyuhaJ3b+RpTRVdq8IvUebKvF2Z/WoW2nLV5e08ny691u0V6lkR3nu/3KPAfW+nHypCi749ljjS52fRi9J/swNKrFQZMVxTv2wP24NTXWZJPTdtPiLkT5bXsM3xw/hUH98+53oOwfK+Bam/ppavw5h0BQbDPZT6fABOuGnfDsFrEqEdoSMdPTga3jPeg540doqpip7b947FGWtwx71o+g6UTm2BO+2AvfGREz5fbUYuxTv3bDaZ28haJfDaDnn/W4qW37/7EVsd+2oi9T3Lw1hM4XehBwVOK4p1ibSIthupjBJIWIZmXOScpKK6yxIII3tclJjOIk1SxOUvHTz3f9aHq1D8FMHVqtogJyqBSWqSrNEyH0t3jRF9Rep7GKSkWDVvHQT7jGFUZEb04e9cX6lJh3m1ZJEZWgpsNZlmu5FWWvNKD0fvWlXukxWa34a1AkEerkOOPGahzdaxenVFXowyY0fxBUkpNJ5LpOpJ1sZ7KNbo3gVFMHBpPa3uvi6z2poqCvQwyljc0o09aLSDenusRUx29yWboVgO9QJ4YzxA1x9IqKcjM8Di1y6ElKtlizohjVLZWwF6gvR0/X4txP2+D5h0R5TZdLkpKtjE9aPiEq/qde/E+m8aUmxcFMct1u8STFKMp4VJRxZY4EOW+jmFeLJzL+eEX8ySgtnugx0yLWOyTWO11KzIz64WvsxnCmmxZKXBM/KbFHdmyvF++fcQtN2p6hTzpw9N2RydtzuVjv/yLWO5ohSVFG/hLnh4lSeF8tQ5a9Swtgupgx1WmdiGjh3BCVBhSh7MU2dB0/juPHuuDdq95NiF7uQY9fq55PjKDnNXkSNsC6tQbNb4h5xfxdR2pQtk6cnIJ96PpdlpOpZuTdo2qCYnKgoqFD/byuNtTsKFIqAMEzPgykje4SjRrh9GjL1tWMivXqiTD4yRBGlWdA5Pr3MKw2wrS+Al5tuZT33WIVyx1E3+8n97aNBMdhe8aLrmNi3mPavEL04nkMy6uK0o1B9JyRCUqWdU6vkMxwG42cPq4mKBm2BzIkZjrLanlmDyP07+pronkRP37lIVmBho6utONdlKX/NaA2MxwLI7rKBOMaF2qOqPMpseMZuyjLokL7weDkoc1FrBm3Jcpo2wEXrLL2c3MY5y8nLgPYdqoJimTZ7lXm9WxQXzs86v9mTVCSRGRFfV1ZYvne8KJyo+zxIpavpycx+IQo551viQRluQmOZxrQ0aV+RldjJYpXyzjYDd/FjJcpVDPZbnGiom50wqMtW9erFbCvEJPFvOc/jUc2jH9vgGWFCXY9Vmnv65LhSsSTvj+ocyYLfQu49HieJWaO/F89aoKSHHv02K/OkiJyvlNNUDLNv1wmML7UuPmeTFDS4qDcnmaZoGjzTWKBWe7W6yHI0YkpfzBJIaLbxAzX/hqUPmRS7x4sFyfFjZWoe1qeBcXJ5/OAnIrY8ACG5FU/kQjUPV0Es3bV07CyCKX73ZCticOfX4qfBCeZ8GNwSJ6drHAf8ijNA5TPM5hQtL0K5RsscOx049H75MQE05OVqHBoy2Yww/l8OZRrezfCCGtJgml9OeoOd6BtvxMWsVyxaASRH4Afm+9Tr35+G5pcYbK74XncAoOMvqJyUrSzEqWiQiJqXwiPy0dxYv5XsT7yMzKt84uVcKrn/rgZbaP49rCg7KX07VGDyk1pb57sXu2RaD79YVA9fte48YrHCatRvZ+oHr+i3N3vgPvpR6G0XFpTgupDbeg45EbRSjHfrSgiN38QRdQMpQiPfZOhommH+1m1jEqmdW5UblOrxGPhsPI4r1a5UP1iqbp8UoEFxXvr4F4jnkf9uPQndXLw4wGlnJu3vCBighXaasNwfzEq97qU9Q18Ppz5bqo0k+0WZ4JrbwUc2rIZVjtRvUu9axEZ17eFSE521cH7WhuqlVgVQzQSwQ/3/Bjm+9T4MPbd5LtMpid3w63H84wxcwTDyh0REftfSIo9KbE/WRDnBmTUyjx/5ZNizSYCuKQlmqELg8r2NG6Q75UUB+X2POAWZ4DslHhMeYe7hYhuj5UOPGLTnicx/exh9YqaVsEPj2s19ys+VClfRpb0I9sRy7/dEPPqV9PSyatj8gRZ+AjsK9VJCQYUP+eFZ8vkPjAP/jRt4cSJUSWSiaRmUpGr/eg8VKUsT1VNLWpra9H0XkCkWZmZ19jUE20S9QSZuEPxl6jIdATLT62T5sXyVTCn1jpmto307bHaAUdKkweV/WfrtGcZ/FV7JJpHoe/UtMLyc3tahVooKIan0ZPSl0P24ehpqVGP9RdqlDJX/3qGOyi61Q/AplVY4+5RS1Z4bP6vnZscj6id8FOIir9dS4y0Cn5YSwrC55pSy6z8adXugIg4mO0+8Uy3m+pBPPBT7alOv/gQEjFIe6r04TvbifoX5PJUoUZs49raJpwKZL0dkUPM/EG7m2HFgxkyBtOq9HspIrlRQlsYA01p20f8tH6k3iP65lt1C42JbSWtczgmx82VdjysXAzKTOlzQ3mHSQoRLQHj+H6+v4wrh7sGMZEUNLb3aZ1jhQITTIU2ONZn7/BquEd7MgXDcvXDQ3/O0CdlYhzh1PYbOZr7Ngpdl5UiMyz/TX1NtOjG+tHa6MOQNpiE7HRtWmmFfaNNvbiRSbyyfAe6Ecb32tP5Mv1dgxgCJxvRcSagdmwXDCYTLGsdsGfoqB43bcw0aJ8dxNcZMq/EnZyZidyY6xYKISzzm9UWZLhuQ7cRkxQiuj1u+PFFhjZaIb8fyqnqpw8oHRjNq9Thd4ybqpX2xZl/0jtCJpEnHhnpxr5AIEMlffS0FzUtnRi8pk2YgcDFYeWOiWVbg9pu+402tB2ug+cXD86pZZR546Nq04Qrp9B1diReUYjdGEH/66KClnYxc0bbaKUZq+T2uO6Hf9JF5CiGLmb71roYRkflmdwKC8/kNI8s96sHVOgPgbT+E8LEKHoba9DUOajcUQhdHlb6YBgdFWiTfTi6OtB2pAHV/8dj2ZOURRbxf5HhW+tD8F9WK+FWq9qvxazdObDubMtQXvUfj9pkKoOZbLeZCeCzi0pkQ+khre9KWxu8tR5sXzuXyGbHoxtlkhPGgOxLEtQSzYkYQhd9aH0/fUnNYhvJRyvcRzJtG+1H62Svb8+r4hwy6eLO6BCGMwwUorg1iq9lLPyJhZ3m8wyTFCK6TcSJ6s0O9H8phwQVYlEEP+1G++9lRdgI50bZkwIwFLuUbzuPXvChI6nCLk9s4S/70fGyOBG/OZT9RLzcga1PypNXEL0t3RgYTf68TnR+FEJ0/D4UTtVgOWcxRIPD8J0cnFxpmImVLlQ+JZt6RTFypkNrcrEPVS93oO/fxNZJu5g5o21U4MBjymg4IfS91o2h77TT+a0wRt5vxym1K9Bkt0RSKdvSry1CEc8cNJ9+vhUuWRm91otXuwfUobmFWDSIoWOdGBiLYnxlYdY+BbFxkbx392JEez2fDNpNmODV0ckV32zGB9D5ej9Gktejux19siK8wgmnGtpgfdKlNAsLvt8K30V12HCFjE2i0u59qR6tp7M3HZ3rdpsRbZl8n8wpssG+swLFsgXadREnm7Qme89XwXtiGNH0wCaWfKtLNiETsbs9KakR5DoOn/Ci5lArerUmaFanU0kyopdlwjMCZaR5JSYPofvYgHrxK4OYSCpl2LOtK1InUN7gEMRENCuLOQRxbLQXrW0DyhXUyYwo2n0QNZunuAYmhyA+0oy+a/opLslyE4qfO4xKbRjLxJj/x+FJuYSpD+GZGMJSNvc6+KZ6NyXFCiOMN6OIFpbBe7hUOXEmf09K6ghB2vCXogKT/pmTvidF+T6DzOP9z2gbRcW6vCLWJcO2N682I3xdnM7ThiCOnG9F7XujsO1qQ90Tk1rAE819COKWPgQzFFGYiuE5XAmliGYb9lsvc3DAo999SP6eFK0c6uJDDKcd5+liFztRdSKRuc/3EMQR8f6N4v0zJiLLzSh5wYvyh6ZorpbrdovHr6Tto9OWG/HtFEPgxEF0KndTUulDlCdvh5nETMWk70nRvisq43c0RTD8ZiN8VzJuIWB1CWoaylGk9TkKnW0S+zXDJSuDGeYVYYRvpA9BrH4/zqmvbChvq0MJQ9ui4hDERJSfCh5BZWMNyuzmeBtp+SVmzr3NOJqUoEgGmxsNrTVwb7DCpHeANRhhWVuCylePTp2gSMstKH25BTU7HbCatBP+cgPM8v8Pt8QTlJkyrK/E4f0u2PRRfOSXkm2qRPORcijdzycy1RxyZ1rngueQNuym+OmSHWHX/kjr5HlvSgSf0TYyioqKSNoqN9viI+DIL3O076hD/c4MoxlMjOCD348q/7d1E8/itADuL0VDS9rxK79gdLMoTy16RVsoLEXdITlyVVI5tpeh7tWDKNE6Rs9nJ2jDxkpUb06MvHWvfmtlCj92iLhwoAz2VYllNK1xKuUwOUGRTPL7kV6tRMlaS/wz1C9NdKOmtXnqBEXKdbvNiAH2PYdRvdUGPVzKL9p1Piti8y51YI3YfyoPsyMShuLddfEhguXw53XyCyK1P8dvXylMKN5/FM17S2Ar1Eb3EuS5wrGzBm2HEwmKZNnegLYDbjjW6PPKL3MU2/5wlXK3eZIvP0DfVyK0bdgKJ0Nb3uGdFCKaFcaNhRP+sAn1HwRh3tqA5vRhOW8MoOnlXgSXF6P6WKUyvPDCSlxV5V0UmgpjAk0tAN/znRgWUavy9WoUJyUXUuBkDTovRGF9qhkN2hDRC0r/YtCoDeUtdSiZNPojLTTeSSEiusPoHefDH8kvcwvFrwzHvvPj1JsiQRHPjWKehU9QZMswn1iGqNIEr5oJChHNmtZxfiIg4liizw5iEYx+1AmfSFBkP5RHlS++XGhR+E/6MHzTCMdz1UxQ8hTvpBDRrDBuLKzQh01o/iDDEMTSCgc8r3pm2ZRjZiJXe/HG+0ZUvlwKCy9r0RQYE2haUT98jd3qt85nYN3hRUMO3+o/Z/J7YN5/A73GysX5PMpoupjBJIWIZoVxY+FN6ji/wgLrhlJU7iyGeZqm6kSLjTGBcpLecV722bHasfXp3Rm+fJKWMiYpRLQgGDeIKBljAhHNxHQxgzfviYiIiIgorzBJISIiIiKivMIkhYiIiIiI8gqTFCIiIiIiyitMUoiIiIiIKK8wSSEiIiIiorzCJIWIiIiIiPIKkxQiIiIiIsorTFKIiIiIiCivMEkhIiIiIqK8wiSFiIiIiIjyCpMUIiIiIiLKK8v+Jixbtkx7SUREREREtPBEGqI9myyepEw1ExFROsYNIkrGmEBEMzFdzGBzLyIiIiIiyitMUoiIiIiIKK8wSSEiIiIiorzCJIWIiIiIiPIKkxQiIiIiIsorTFKIiIiIiCivMEkhIiIiIqK8wiSFiIiIiIjyCpMUIiIiIiLKK0xSiIiIiIgorzBJISIiIiKivMIkhYiIiIiI8gqTFCIiIiIiyitMUoiIiIiIKK8s+5uwbNkyiAdt0kz40b2vW/zOoMAM28YyVO4shtmgTZtv0VH0+3zo/1MYMVjhPtwA12rtb0S0oGYfNzSxMIZP+9B3cRThW3KCAcY1dri2ueFymMUrnR5nHPAc94jfS0/oXBOa3w/iR5uq0bLHnrTuS0kI/Y1e9I1ZUHbYi9JCbfKUYgicPITOCz/A+nQ9GrZatOlLw1Lb73OJCaGzXnjPhLRXmVl2iHm2L61jIBv/W/vQfRlweI7DsxSDnib8eQ+63xtG8GYMBlEOuvasy48y7+/Gvm5Ru93gwfHn5rgDxgbQ1NSL4I+cqG6qgL1Am07TxoyFu5NyK4zRT3yo///2YnRCmzavxAmvvRV9AZGgyPef+Kv6SET577tBdLxcD98neoIixRC95kdfdz0OnfAjqk1d+kLwDwXF2gORC58hoE4kRQCfXYiIxxiCQ36xpZYS7ne6u8Wu+ND89pCSoCivb8nHpVfmQ5fFOioFfQif/UmdRrmZpyRFXuE8juPxny60vViGohXiT9cH4PtdUJ1tPn03DBHfxRrY4H61S3ymF6W8i0J0Bwih//gpjNwEjOvKUHNEll8RN7o60LC3GGYRlSIXe9DjV09cS58FDqdVuYpu2vQY7OpEUtjx2CaTeDTA6nSILTU78ir9vn37IC+M5g/u90zk3ZJEXSL1Z+Huosi7tfuwr7F/iSXCc7PQ5cZ/YVi5GGXeVI22Y2IfPyvvWMxPmc8nlg1OWJWC7sRjP1OnUW4W6E6KAaaHSlGz1wmjeBX+/BJG1T/Mn38PISwfVz8M+2rtJjl72BDlv9EhnB8TjytLUP1iKYpWauXXYIR1YyXqf22H0bQKsYic6e5g2dqALlEJa1uyTb1mywD7njZRQe1ack29JO53unuJOpyWEVrX22GS9TelDrcEy3yhCw1dIglrY1OvmVrYar3ZjPvk440wvlcmENFd7+b3kDfzZVLyowwRyLipGh1tDajebNWmEM1BLIzAn3h9nLKLXPkjFqC9x52N5YbywDx1nM/SoTXQg5rOIURXulB3xA2bnBYZwcB7vei/EkQ0JuopKyxYt8mN8l/ZlWYeOr0Tnew05v5rD7p+O4TQLQvKqosx3NmX4ZZscmfMGML+Ppz6YAhXx6JKm1+DyQr7L9zY/WSRmrHrtM5R8hbzwXV++N7uR+BGTOuspq1fYRka9ptx/u1TGL4m3m+5ARZHGSqeccFmCGP43W6c+lxbn1V2lP6mEqVr5T2khMjVAbz7/jkEghG170yBCdYNO+HZnTqwQKKzXAe2jveg54xfrLf4Q4EFjh0VqNhiU+5OJYh1vdgL34fDCOrrusoG545KuDcmdz5Wxa4Po/dkH4ZG1b48crsU79gD9+PWtPclmtqs40ZkEK21pzAqjjj7M/XwPD75OE01RZyJBDH0u5P44HIQEVlOROJjWVOM0j1uFOt3WDPFIU3w/Xo0nQsDoox7D5emNC3Qy6J9TxeqN2nvNRHByMfvovfDgNqOWn7eOifcu92wr1JnUUwZV7R5kiXNrzdpmXksSJeIX966Ivh9x9AfEPEnuSNojvE4Y5yR8z65C3u2pcVUIfrVAHr+WayzjJdi78oBEUr/x1bEfts6w47zqecCddslHQ8dWxF+pwd9/pAaz+53oOwfK+DS4m+2ztipHbC1dTszhNFxsWYivpusxXjq1244rUlbeKwf3kZx7pHb8wUzBv/pNIa+EttTrJ9prRM7f1OO4uRjIDqKgXfeTdq24hy0bXfqfkvb7/HjcX0luvYXp5WLEfTUdGAoaoaroRluLYfPp5g+Hx3nU/dNFtqgG/2i3IeU/gziGCtcB9fuPShdJ5sKJRkfxql/Sto+8vz4q0qU/4NZ/FE/ltKlxZq51lumOt6zLN+D/nr40jrOZ+9Mnz1Gzub4yLnc5FrPSqOvxyRabEot81Exf72YPyqCcQU6qtUWOoroMLrrffBHjXBWH0WFXSsxOcc1YUIcS+8lDeCiD/r091+g/u3cOs6HPz8F3+8S8cNsc6IsJR4kxWLlPJPtuNOl7cdczzt3oNvUcT6GyJf96DghKgbilfkfHlUrBt/1o6muA70isMgDR4rdDCFwrhP1Lf0IiQKU7ofPxN/elgVdmzAtcUCfOIT67gEEtIIjxURlxn+6A7VZPic22ovmtj6lIjFJZADtjT4MKSdcYSKG0OVetL4pKg6tIpBcSFqf8QD6XmtHf1JLldCHTaht74X/mpagSLciCF7wob418/KMnW1H62mtUiLdConlb0X7h8mBQxbeg6g/MYjR5HUdH8XgiXocfCu183FUnBAPvuLD4FdqsJLkdhl6pwn1afMSLRhTCSp2yBpWFIF36lH1fBVqG1vRfaIXA1+qlc2cyHhyqAk9ovwpCYoUiyL01SB8rxxEt187ou3FcMiz2g0/vki5XDqKS58rjUZFgRtS+7jFjeCPX8pHOx7ZoCcoIfS31KJDlEvlRCHJzwsMoLOhCf3fqZOSTRlXcpRbLJjCxNfobZKDjMgKdZKc43EMgRMZ4oyc90wHGsWJPDl2hD7pQH2bjHf6vOqACL2vdWJAuYU2X8Zwtr1VLH/imIl9Jz8nNf5OLSmGygqGJOJ75NoQeppExUg/hpLd+gK+FhlH9e0p5pfHnJgW0PeRPFaUZUvetvIc1Ir6d0bUCRlYnyyBkntcOY+h9G0VGBaVMfG4pgRbtQTlrozptwLwaYNuqAmKJI6xMXHubW9M3WdRURlU9lXS9pHnx7fr0Xo+x4NxAestsS9Pob4h0/I149RV9fVcLNzxMbt61uwY4Xi2Gi5ZGQ/0oDO+36IY8skERSRP2w8mEpSZ7K9bIzjVmDaAizboU/N7ue0AuY2b306NH2EZDxpaMXhDnTQnszjvLCXzlKTIrHCf0sFK/RGVjtf7lI6xsqNQ+S9FRJ0YQc9rfQhOGGDdWoPmN9SOcF1HalC2TtQggn3oytDBfiQwiqIdNWiT7flk53h7KbyyE51+GUFmpvK1/FuhyCfOd6L7ojiIDRY493rRJTtjyY78dW445AUW8TlH3518kggHAsDGSni15Uq5ShEVpUBk8Orf5KAALljllvtKVGy+tcL1YpvSrvj4Gw0olSePiSAGPtI/I4Lx7w2wrDDB/oy+POp6u+S8Ynn6/qDOmSz0LRLv29WMivXqtYPgJyJbV55p6yqvLhjkMjSr732sC16t83H0cg969SFjbgyiUwal5SY4nmlAh7I9xXI0VqJ4tZy3G76LeqghWliW7Q1oO1AGu+yPIiuFY6PwXxxA7+teVL3gxanANKdPPZ6IQ9b0UFLn+ze88DwhOyPLymendpIoQvEGWX7CCFxJqtiPfoFL4u9Go/o3/3BS/BkN4I9yEeyPoFhrQzzy7lH0iVkMa1yoadE7+7ehZkcRjKLM93X1TmoyMmVcyVEusWBK1wMI3FOMykZtmeVVwRnF4zGEb66CaUVSrJPzNlbAvkLGjj4M6kmBiDM9742IrZ/2vjLOmKNKKJ0/IbG9xb7Q9n3Xq+ryyPh7/lN1y1i2q52wPRuUl8qVWflavxocj6EmByoaOtR1i8dQeQz5MJxe0bwRxLhNPx8cF8exdj64OYzzl7UYGuhXjhWsdcfnU7bXSiNW3RjL3rRopUhA1ssno/hsOLkSHcOw2N/KISkSGeVewRKN6aEzamftST96p/axMKKrTDDKcqiXe7nPnrGL6qzYZx8MxltahD85C7+oh5g3ebQ6hHb+XmEG/v0bcXaWV6zF9MNl6l3UeH1Cu4o9X/WWTHdRxHufEpXbsKg0mxwVaOjQjmPlvcX+k/WnuZjD8ZFTuZlFPUvneE7dLmXadtHfP+sdCzlAUlWZUs5G//kNpWIul6FH1m+sZdj3S+3uzgz318jp4xi8Lp4kl38tpuNmLsEqjMGzMtkzw+nRY7T4/y1WGFeKYzmYLRHWjrvknw5xzMn4JY7iol1l8bsosznvLCXzlKRkIG+Zba5Ec4vaUSg2PIAhWejWV6Du6SKYtRO/YWURSve7lZFNMnawX1+Oqu1FMKXe984ihM8G5TsYxQHjRcVGCwzKGhpgsrngOeRWrlJFhwYmn3hWib+LE5MlY6cmO9zPOrW/yUEB3Nj6c+UPMD25G+6HTGKqUGBF2W6XcgKJ/llk5nKaeGXfVQfva22oflwuTwzRSAQ/3PNjmO9TKxtj302+IpryvgZRAJ4vVw/aG2ElqKWua4OY16yuq2yKJipFnm02sf3LUSqCnRT8eEAZCtq85QV45G1ebXsa7heVl73qMgc+H45fESFaaKZ1paiWlYw3OtBcV42KHcWwyaQlFsLgm+1TXyH6w6AaT9a48Upy53vZFGpXAzybRNmaGMXAx2r4LtrgECVFlJo/BNT+MMLIhSHx3ATnc1r8uXwpHuxHxXM5n83+sFoGbw1jYEictJbbUfGSG0Wr9AJkQtH2KrjlG4xfwqX0ADZlXMnN9LFgOma4nhMVk/u1ZRZmFo+tKKkWSeVrMs6I5RBJpRLD7l0Fs3JSDeEbLYSFLgwqcca4oTL1fWWcOaDG31TpF7i0H1G5mp4Jrt1iX2j73rDaiepd6qk9Mq7dIZtSEOcG5BqK7fOCR2napbyTFkMrnxRRcSKAS3riEZd8PpDHsRuV22TTIVl/TvvcG19j9NswItGY2AZi+Y50oKFau1uSkQHFm9XmLMGPzyUqH+L4u3RFPBqdeKJYXd+7NqavKUH1oTZ0iPO5su9vRRG5+YMoGlof2LFvRFqdKnr9a3w9FkH0lnr+bnitGXW77Mo2msqC1lv0GFZYhgMeJ6zaDlTe+8VKONXqwawt3PExh3rWXNxfikp5B15WzI950frPYhlE8lK+vxQWrSY7o/014cegjOmyq8BLSeVfiek1qJTnkJzJO/hfYywSRewe8f87RVLYUofy9dMdYRrlzmu3klBbdxxEzRNa0jXb884SMk9JSoas8A0RBJL6W4THx9UnV3yoSj8hvdCjjhF/IzTp9qjlp+oQjbkZwzdKdFqHh+XOS7fSjkdk5j4xjnD6bbifPpj9xFH4IGzawa5TCyXw4NrkFu6C0Ygfy0dR8uOFX7YnPNuJ+hfk+lahprYWtbVNU14tfvCnae8rTpyqMYRl5j/Nulp31KVtf/XkGT7XlLrt5U/rgFpx+1ZemSRaZAVGmG12OLeLim1LCypl2yx5Ivp99opq6Du1GmL5eeaKhn29mp3rxz0e0pp8XfsCXygH+wiG5RX0VY/iUfG3R+XV63iwD2EkoKQoeHSD9u4iIRiXCYGotPqUcpz8U6Ve0ROlKDSWdsqfKq7kaPpYMB0rHkxbiBnHY9kH4GQTaqrE35/XYtgrHYk7KJoxEUOkdQ7H5Lgt4u/D8zpM/IN44KfaU9292mMoLPbidESSp2yGMAaa0raB+Gn9SE1nv/k2LSqufmDS+QD3qGsbHtM2iL0UZXKbj/uVJsG1NVXKdvOeHEZ4ulqh/Qk4ZdOWpMpH5NPzyj5RhirWzj1LNabLfg8pdQn9J6nPmOxn0dNSox67L9SI82kt6l9P3EHRmTdvV65Oyz5S3U21qJFlt6oWnWdHEMkhwV/Ieosew8wbMgyzKyqlRdoFxtlauONjDvWsObJsO6CeH66HEJ4wwvGbapSs1P4ozGh/ifcYk8fAagccGe502X+Wyw4wo2S7vAAWxehH3WiqFcfk8/tQ9XIn+q+q8WNaMkE50qzcLTFt9OBAcn+s2Z53lpB5SlLmyzi+n+eDOrNYvH3mwpPfmNyIjjOBeJtHg8kEy1oH7MmdMtPpJ9vFxFHYaMHJym4rvC81oS/TnZLlJhQ/qp0cxAl0+ormNCb04K03+RrFHwNimta+37zhUVGFN8CxQZ5tI7h0WdQKI1fxR3kSXvsoHsnxQphuXJSheXc7YoFCj8fiJJrS984A40oTrPZi2ObcaTPDBS75M01HVZ1+sWghRW6kRcV4kjiF5RaUHmpDwzMuONZa1KvY4lgMyX6IojI9dfXFiq1PygwngqFPZS0kiHPKHUEzHt2YlrBOZynG9LF+tCb3ETUYYVpphV1sG/V+VhKjOL5EBdCzowT2NSb1eIlF1L5UUzRHmpnFqrcsgAU9PhamnhWL6Rd3o/j+5l+15zMxv/vL6PDg6KselG22w6rdOovdUPtH9Sj9GqcShf/to+i7FoNxgweH96p3/GdqQc47eWLRkhTzKvVsJocXnXRCiv/kPuJLZoV4QPn/q7iU6YvgxIHzhax8LC+EZdFGRAjgs4uyUMmTltbmtK0N3loPtq+dS+0jsa5/VLLpVNELnag51IpTV9TToXmVGr6tO+X445m2vfxJHRWEaP6ZYbglO7wGMfhx5kpCvKmO+b7JlQ6N5X41UISG/RkTmcAVtdOj+b8mrkoV/Xf1BBC4PIzhy7IdsQVOp3qLwVD8GBwiGspv/h6+rDYHsP2/HkncpVlpxioZLY1OVGv9yjL9TDsqUZ6YUTwe80PpriMqfBVKH4AudBwRFfDqcjyWtoP0OHPV70/cSdaNDmE4pzs/i8Usllc+WuE+kmn9tZ8cE6ZkwU860VTXjksWNzy1XqU/QNeRCvVu3leXtLt52Zke36rcMYle/Az+0UvwywvESR3mpbs1podE+Q2Kyq/RUaH2+ejqQNuRBlT/H4+lxQuRjLzXCu/LpxB9olxpIib7TnQdUu/IRMX7TJemLGS9RX/vsIhFk2JYdAiXMvRV1YXH0w6gsRC0e3hxC3d83L56Vuhsu3r3YLVF6Xer90/RzWh/6TH9uh/+9I0nzg5DF3NochoJ4FSbFwdPR1GyuxoNbSI+HutCwzblCIP/8lRHWBSjp9vVPnHWMhx8NkOCssTOO7MhV39RGIpdcMrbrhd86Dg7khhJQY6EIEcCe7kGTW8OzfHWtAWPlcgrTeLg8DWj56I+6ksMkdEBdLeoHYyMTle8M+xtEYsieNEH3yc53g7MyIKSX8irv6IwdTfhlDYEp7o9e9H+2wCiN8RcVrWaZX3SBZvY28H3W+G7mBj1Ql8W70v1aD0t/kebTLRQHFtcSmUi+mkH6k+ICkd8CBb1WGx9XymlcDyWPgRrkp+XKPEEY31of70fI/roWXLkq/ea0H1BHMnLbXApV6Q1P3tErST+qRen/lX8vbA4cZt/uQOPbRR/jPpx6oySoiSaekkFxXDJRuKi8uCTn6eP5CLExkfQ316LmpbOtBHC8tec4/GtMEbOHkdv2gA4VqdTqwDK/TiCiLKZYogGh9B9bEDrp7f4DNqBFLw6mpQ8WbHVJc8XQfS2+0QiljRKUTSI4RNe5UJP73SDOGRwH/6KYCSkDIMaPzZjMe39jTBMd/4Rx9sT8nic8KNH7Ae53eId5jWM6QlKGewW21p7rTLBODGG0M0Aek8kRtr64T+0LVJgxN+pz5SakHLJ8PrXGE06LS9kvcXgeEyNRzKGdSeWT65L7+unEMhwF+LBv1fvpAU/PImh77QdfiuIvrcnfy3DfBwfmcvNbapnjfai64x4Z9k/4396UaUMyKR2HJd9b6QZ7a8CEfOVHRBC32vdSdtTxLb323Eqw8XfSUzi/0WCGL3SC9+n+nb4AX/5D+WvuLcgfoRNIhOu1o/EklhL0VCX6FeTYomdd2Zj8RoSLC9C+X4XvmkbwMgZUTk5o02PM6Jom02cNubG9EQ1PH9uRLcoOEPiJDN0QvuDTmasu4u0F4vBrlR+/GJ5+luq0K9NlYwrxMGX0wgSmRk3VcJzVa5rEIPdXgxq01UGWJ+qSLTXXFmC5/f8EY0nAuLk2yR+tOm65WaU2NdNzuSJ5pvNjapdQRx9T5xExMmy6aI2PYn58UpUOLKmKEo8qXipDN+09CH4ZZ84+fRpf9CJJOe51PbK8uT2yH83YkgkMFFR7KzbH1Mq1Dq77Fx/YUgdgWrNI5OaehXtrIbrz60YuCo+71D654lPXPcwbHMNYItlJvG40IFiax/6gqLC/HIVepS/S0YRw8SD7KiqKyzFvh1fwCsqE8FzHag9p02XDGaYV4bnvZ16LtY9ZAcuBhA+34qq86KapX3fg+mJ51H5p0b4rgzD1zSszZ1kdQnsfz/zqGh6fBfKPvWKbTYgjs0BbarK+LioSOVQebM/7oTpwgAi8hyR1GE+7i6N6ZYNxbD+XpR7fw9qqxJHI8T5VK5r8hnVJs6Bjsvd8F/pgfeFpHkF2y+2Jr4zafXDKFol3nM8gJ7afeIYl80QPXAsZL1FVJIrKhy42u1HRKyLV/zEiX1nXqX3mUowbS6D8/cdGBKJV8/hpLK4XKy7MW30vHk4PrKXm0WuZ8mhpN+UFzlkXNcGFdh+AJXBevj8A+h8+0E0Pyfi94z2lwGOZ8TxcVUcHxER25K3p2BebUb4+nSXVWwoe8aBYbEPA++IxOkdbbK03IbtW+JHWBo/+mTCJQX70VSVXDOUEt+ts6TOO7OQKXdbMAZROWlorYF7gxUmPUjLL6VZW4LKV4+iZvN83LISB/HeFjR7XLAXaqM1CPJLhhw7a9Amb/Uu7lrDvucwqrfa4iN9yC/1cj7bjKO71Lb3sf9UHmZBW9e9JbDF11V+cZoD7gMt2i3HBNPGahx9tRIlehtpSflSSTdqWptR/pA+kWhhWZ6oUdvxilgQPxaXG2BSjt02NCvDiU7j/lI0tDSgYlPmeOJRrpKlUhIR5Zk19U6JpH+fimAtfnRyh/wCG9yH2lCz0xFve6yUt0IbSvaK8nygJCXpyXe5x2MLSusaUL5BH8VHzLbKjrLaZhzcrDWwSWoarg4v7YZjTXJMcqJSVAKUu1+3gWFjJao3J461e/VLxGIvF+8/mhZDxfz6+eJwOYpmczVY6ZPSjMrNibgvR7y076jB4Vwrb7ZH8ajWXMb82BPxDvPJ7sqYLhLhukPlcOij1Ym4YbaXoe7VgyjRBmaI94WQfVJerRPHeNKxK8+/orweeCLlvhTcVeWwx0dPSjoWFrDeovZnkPtPG51TUMrWS/Uo/3v1dQp5caaxBmV2fX7tfP+SqMhOClhzPz6yl5tFrGdNRDDkU0e+MspR9+Jx3YjiCpFkyDsnl3vQ87l6C2xG+0vrsyTLqT4SmFpO61C/M1uCkUruw+ZaEe/ioyfq8e5A6kWy2Vpi552ZmuM3zhPR3Ypxg4iSMSYQ0Uzcpm+cJyIiIiIimh0mKURERERElFeYpBARERERUV5hkkJERERERHmFSQoREREREeUVJilERERERJRXmKQQEREREVFeYZJCRERERER5hUkKERERERHlFSYpRERERESUV5ikEBERERFRXmGSQkREREREeYVJChEtYX5079uHfY39CGlTiIiIKP8xSSEiIiIiorzCJIWIFt9YP7zyDsdbfm0CERERUQKTFCIiIiIiyitMUohokcUQvvJH9hEhIiKirJb9TVi2bBnEgzaJiGh6s4obsplXY9/kBKWwDN7DpbDI55ERDLzXi3OBICK3xOvlBpisxdj5bDmKVxvkHHHhz0/B97shjI7HlPnMNifKfiPmW6XNoHSc74Y/+f2F6Fe9aH9tAMEJwLq9AXU7rDAgitGPevDuhwEEb4r3MxhhXV+K3c+4YDNq/0hEWbEuQUQzMV3M4J0UIsofIolpqutA72UtQZEmYohcG4KvsRX932nThKi/G81vD6oJiiTmC381CF9DKwZvqJMyiQX7EgnKDi8alAQFCJ1tR+tpv5qgKDNGEbzci9ZXejAi5iUiIqLFwySFiBZPYSm8x4/juMehvt7gwXH5WrvLEbn+PQyrjTCtr4D3DTFd/q2rDTVbrCIJCaLv93pH+zAGz/oRhRlOTxu6kuYzrhQJRzCizZfmu360tvSLBMUA61MiQdmu31sJoP/3QRERbXA3dqmf+4YXFetNMK76HmPiT0RERLR4mKQQUd4wrS9H3eEOtO13wlIgb2ZEEPkB+LH5Pigtrr4NpTUViyL01dcYi0QRu8eEop0N6GipQ7lILiYRCUrTq31aglKPhm16gpJkIoKvvw4iLN+vwALn/jZ0HKpGyRrt70RERLQo2CeFiGZlTnHD34193X71Tspz2l0VTeRqP06e7EdAb8aVLKlviWzuVS/eI6r+RWFYaUfp3j0oXacnKVqfFKMRxv+IIiqbbRmdqH6tAva0SzShs03wnkm9ZWK434mK5yf3hSGiyViXIKKZYJ8UIrpjxK740Njel0hQCkwwFdrgWG9V76QkMTo8OPqqB2Wb7bCa1CQidiOAvvZG9HypvEyIygTFCJPMXaJD8L2dmtxIlu0NaDtUAZfDBssK7f2+k31h2qfs40JERETzj0kKEeWNwMVhJXmwbGtA1zHZL6QNbYfr4PnFg7hXnUUVCeBUmxcHT0dRsrsaDW1dOH6sS2vCFYX/8og6X5wR9j314r08cKwQc1zuRvuHSQ3Hrg2is6UW7cMWuD118L4m3q+rDRUOkRpNjOLSv2bp40JEREQLgkkKES2+e7TmU38ewWiGVl0JMUSDw/CdHERKmmASycNYCNErvfB9GkJMGX3rB/zlP5S/4t6Cv1Of6ApdcG8yy9sv8DzrVO7KBM/4EqOFrQT+Gowg9PG76P0yIj5V+n8Q05bNWPAj9QkREREtCvZJIaJZmVPcuDWMzhd9COhD+2p9TcxXfDj4pno3JcUKI4w3o4hO0ydFsdyG8pY6lIjEI9v3pMT7n6wQScurHsgbJpn6pChWOFHTVoEiXtIhmhLrEkQ0E+yTQkT5p6AYlftLYNX6fqDAoHxXiWF9JQ7vd8G2Upsuv1BxUyWaj5RjnXw9kbjtIvukNNe64bhfm1e8g3GNE5WHD2gJSnaW7ZUos4onN/3oeWcYEZEsyT4pzc+WJD5bfjmkvQw1jUxQiIiIFhvvpBDRrDBuEFEyxgQimgneSSEiIiIiojsKkxQiIiIiIsorTFKIiIiIiCivMEkhIiIiIqK8wiSFiIiIiIjyCpMUIiIiIiLKK0xSiIiIiIgorzBJISIiIiKivMIkhYiIiIiI8gqTFCIiIiIiyitMUoiIiIiIKK8wSSEiIiIiorzCJIWIiIiIiPIKkxQiIiIiIsorTFKIiIiIiCivMEkhIiIiIqK8suxvwrJly7SXREREREREC0+kIdqzyeJJylQzERGlY9wgomSMCUQ0E9PFDDb3IiIiIiKivMIkhYiIiIiI8gqTFCIiIiIiyitMUoiIiIiIKK8wSSEiIiIiorzCJIWIiIiIiPIKkxQiIiIiIsorTFKIiIiIiCivMEkhIiIiIqK8wiSFiIiIiIjyCpMUIiIiIiLKK0xSiIiIiIgorzBJISIiIiKivMIkhYiIiIiIkkThf8uLzgthYHwInY3d8Ee1Py2SZX8Tli1bBvGgTZq52PVh9J7sw9BoGLEJMcFghHW9C9ufcsGx2qDORERLylzihv+tfei+rL3IwuE5Do9De7Eg/OjeJ4IuHPAc94jfd4Cxfngb+xAqLIP3cCks2uR0oXNNaH4/iB9tqkbLHjsYhWkxzCUmhM564T0T0l5lZtkh5tme7aifH3psWvj4M09yjAkYG0BTUy+CP3KiuqkC9gJtOuUu1229RITONokyGYR1ewMOOL5Ae0s/gj8R635IrPs83eKYLmbM+WNC5ztw8BUfBr/SEhQpFkXwch+6Gw/Bt9hpFxHRXS0E/1AQMfEscuEzBNSJRHQXC10eQlAJCkP47E/qNKKsvuzBUZGgwFqGyh1WGLVHBPtw9N0RbaaFN7ckRWSVx98bQRRGFO2oQVvXcRw/fhxdHQ2o3GgGJiIY7umB/5Y2/wKSV2H27duHbr82gYjynrxaKWNGpp874ipmXrLA4bQqd09Mmx6DXZ1IdEeQd0syxQP5s9B3UZYyywYnrEpQcOKxn6nTKAt5x0TUJ/e9dbdWKEPof28I0eU2lO9P3DGybHsB5WuB6KfvoX9Mm7jA5pSkjH56XqyKOOafqEbN9iKYtDYFBqMVxXvrUbHeCNN/jeH7RVoZIiISJ5OtDegSlbo2NvUiIqnQhQZ5IbmNTb1oGl8OYEDU243OMpSs1KYpTCj5pRNGUfMf+Ghx7qbMKUmJ3owoj39n/JHymMoI5/4OtB2qRskabdJCiYUR+NPUbVmJiIiIiLKLIXzlj8oF+LvVyGU/orDAtaVIm5LkoSfgXCXq/5eHsRhpypw6zkfOt6L2vVFghR0VdR44p+gkH/moCbWng4C9Ah3VMhNLFXy/Hk3nwjA+XoOOZ4qSOq91YOt4D3rO+BGSzcYKLHDsqEDFFpvyHtk626V0sIuMYOC9XpwLBBGR77HcAJO1GDufLUextsxRfzfqu8WOWS7W5bVqOOMLGMVwd73St8a4qRpHeWWSSDEfHedz6Zyql3FZpqtWD8L3/hBGb8QAgwm2TTtRuasY5vTLLellXhnMoxTuXS4UmdRZpuw4Hwli6Hcn8cHlxP9b1hSjdI87HjPioqMYeOdd9F8JIioXa4UV9m274zEqbiKCkY/fRe+HAQRvyhnFe65zwr3bDbsI+qmiGP2oB+8mzSuXf/eTMfS05dBxU8SzfSKeJcfBWW3HdLmuayyM4dM+9F0cRViJ22bYNpfj+f/3N2g/LJZ/gwfHn1O3ePJypTbnCaG/0Yu+MQvKDntRWqhNziGeK5K2wcF1fvje7kdArG/yMZc+6IvBZEXxjj1wP26ddI6i6c1Hx/nJx0EGyR2YXzBj8J9OY+iriKheimNhrRM7fyOOhfQypZe/fxFlKiIOXjGvcY0dpU/vhmtdPChkj013ekzQ413SfHOPCUkxtMuN2LvdOPW5us5Kmd9YluE9RBJwsRe+D4cRHIsqfecMKyxY9+Qu7NlWBFN8Xr38i/c+Jt77t13ouRhCbHXSemqxILGdxftscqP8V/aUz8y1Phk/ruTzZPo2SzruGp414uxv+xC4Jtchh+Muh30c/vwUfL8T+2BczCfimtnmRFmG98w5buV6HKYIoe8VL/pjLtQdccOmTU02eroWrR/9HUobm1F2vzZxlha047xpcwXKrOLJzQB6XqnCvhdq4W3rFgf6AEa+k4degunx7XDIrRLoR7/IVVJMBHD+s7B4YkXp9tTMbexsO1pPaweUdCsE/+lWtH+YY54rDqqmug706oFFmoghcm0IvsZW9H+nTjI6PKjeIvvRiHV5cxDqPSKxjy/41M7/haU4+GsmKES3y1/8PjS/PaieRKVYBKOfiGknA8qJLu67DGVeGcyjFx11TfEyn5X8/0NN6LmQ+v+hr8RJ/JWD6E4eDGRCnEjbW5XPUk7MQuxmUIlR9e8kXWeS87XUokPEMuVEJcn3DAygsyF9mUIYbK9X4l7yvHL5W48N4Ht1yqzlvB3T5bquUZEQHKqH7xMtQZFuhTF6rhON//QF/qJNmpUc43my2GgvmkUlTiYoyeSFqfRBX2KyIvpOE+rfklcSKe/d+gK+FrkPZYIiiWNBllMxLaAfH1Jy+VMSFCmG6DU/ettr0XR2mvoEY8I0xnC2VZR5sX30dVbKvHiP+pZ+hPRBlcS7BU4cRP0J8VlagqJMvRlC4EwHGt/OVO5+wGdvyvcWCUr8fYSkOJ/YzuJ9RJxJ/cyEOdcndZEBtLecgl9JUKQcjrtp9rGMR8o+kAmKJOJaWL5nQysGb6iTpJzjVq7HYbqJIELXxaPtwYwJimRb+6D4HUboW/X1QppTkoLlFpQeakPNDrvaH+VWRBRaP4bPicrA4SpUNZ5CQN9iBQ6UbZG5bxhDH6eONxMbPo8hMZ9xw/a09m+iaIqN4HqxTWlffbyrWennIgU/EdmmeLRsVzvZeTYok5WrH8kd7CLXv4dhtRGm9RXwvqF1wOsSy7xFZFdiZ/T9PtExyvZ0lZp0fXUKb8igdWMQnb8Vy7rcirJ9ZfM25BoRqfzd+5QBLyb9ZOiwGAmOw/aMF13HRBk+ppVhIXrxPIbjFdYR9LzWh6AI3iZHBRo6upQy33WkBmXrROyQZf5/DcQvQkyi/78I6qaHylBzRP3/42944XlCdkaX48Z3Jk4agX70yYsua93x+NLVWAH7SiNW3RiDfj1m5N2jynyGNS7UtGjvKePQjiIY5TJ19cbnjZzvwamrIiAarCL2NWvr2wXv3mKYo9E5V55z2o6Z5LSuMfjf6cGw3MCri1HZmLquCIpKnjLf7MwknuvCARHDN1bG51eujsvYLk/oy01wPNOADn3Ql8ZKFK8W2+JyN3wXtTM7LarQGXUQnEk/jaLiqc0TdyOIcVviWGg74IJVnqdvDuP85cT+08ufCAqoaOjQ6hNa+ROTg2d8GEiqCKZgTMhBCMFvzSjeq79HF5pf1PZFsA++j/VSP4bwzVUwrZDrodXr9O2zQpa7PgxO6sM8gsCfi1Cmzy/vaMTjvAHWrTVo1rezHufFZ3b9Tt96CdPVJ+XFaK/8m34LTd7x1T9TnaIS2xx/70ZDjsfd9Ps4jMGzMsEww+nRl0/dD0ZRJw4Fte03k7iV43E4yfWw2EuAuVC/dZ3Bf7OIJRV78/oMk7tZmHu1W2ysou3VysheXa81o25/Bco22pSkJTYmNmh7IqO1bCmFXXxi9MIHSQEhgkElaRE7Z5tj0p0K05O74X7IpE43iHmeL1ebZdwII5whU05nWl+OusMdaNvvhKVALFM0gsgPwI/N96m3u74NJQKfTLqeLVMOtuDvRQBoP4VR8Rm2//ECSud4S4uI5sjuhudxCwwyasm4s7MSpSIwKye+cfko/GEQQzfF4xo3XvE4YTWqEcWwsgil+0XsuN8B99OPItG4I03y/79YiqKVWkSSzQJ2NcCzSSY6oxj4OC3E3/gao9+GEYnGYLjfieojHWioLoFyqr81jAF5FUY2JX3JjaJV2nsaZOysglsOvzV+CZeUs2QInw3KJ0Y4KutE7DNr62uARVS0655WKw9zkst2nMo06/rZZVllssJ9QJw4709e1xr1bvUczCie61a54BGVOTm/LvjxgBLbzVteENtCVAT0xbxfJFZ7XcrxEfh8OH6ll/KVHe5n1WNBMq1zo3KbeoyNhWXrDGHCj0FZ/uQxecgDp9Wo1SfU8le+QZTtnW48ep+cmAFjQk7sv65H5Ub9PQwwP+TGgV+rYwsGL34mquGSFSXVDWh7rUGt103EEI1E8MO9q2AWSYpc128y1HvtO6tQqtcDhdjwgLpP1leI9S+CWdv/apx3KyMahj+/pCYeSeZan0wQx91+kZhMddzNaB/r5N25rzEWiSJ2j9wPIhFpqUP5evWMNau4NdVxOAXDPdqTTMT+1ffFQpOH07wxrDDDtt6J0r11aGupVJt3iYy27w/q31FQjKeUk1RQJCZagQ6ew+A18bi+TL2LkebBn6bdcBIbRyUKj7wllYPI1X50HqpSrsZU1dSitrYWTe8FMl99EJn0gd84RJYbVm55GR2VqH4ia5WGiOYg6xDEWn+FZOY1tkmBUTkhytvO/668ROg79TKc5ef2yYmIiD+eRk9K+/N0U/6/YF+/TnkMj2snInupGrfG/ehprUdtjYgzz1fBe3IYYf1MIU6A4/IEOBGA74X0K8RV6FFuLEcQGpP/MIZvlEVYh0d+Pvk0YPrZw8oVrLnIZTtmlNO6fg+lTrP6YdjT7opLtnXZGhDkbkbxXPrpg5NOyPr+C59rStsf4qdVu9MmEp6sVxtpwcj+ERljQvrVbGn1A7AlJZ+Ke9SjOzymXZK/HsKYLH+Fj2Q4Jg0ofs4Lz5bkvhCpGBOUl9Nw4NGNymWCFMaNj6pJQPCbRFmS/dVONqGmSqyr2C41ovzWvtKR4Q6KziLqgalLFx7XMqcrPlSlbDvx80KP+t1QN0KJZl2a+ahPKnI57ma0j80o2S7qnSKKjX7UjabaGlQ9L+Lby53ov5q49zyjuJXLcTiF2H9qTzIRyWUObzEvZp+kXB9GT5sXNU0ZOhlJpmI8+pD6dOy7xBzWX5Ypd1PCn52F/1YMw2cGRDEww7WtOHNmdq/2OEsxcRA3tvchoLfzKzDBVGiDY/0UHSNjIrvXnkb/dxR/1Z4T0e0z5ZWdxSaCtEJr8trwjAuOtRb1ypb4W+iCD/WvJ/q25WJcnNQWw6y34zyu62zNKp7Pltgfc23rTwssXsnMA3djTIgTldacaq0h9Kf0XTHAuNIEq70YtkkDBczVOL5Pb8I3x/pk3Dwed/o+lv2ij77qQdlmO6za93nEbgTQ196Ini+Vl7nR49Zsj8PVZsiGXvFkK5N/Dyl3xgpXT7psMO9mn6SYDYiOhhANDmIg4waMQL/rtWplUp5fUIztT4rXUT/O/q4X566IaWtKsHXuF9gyClwcVhIOy7YGta3kG21oO1wHzy8ezHy8ftePdqUfihkWebtT759CRHnPcr/ajjb0h8DkIDwxit7GGjR1Dma9Qh7//2F/xosvgStXlUfzf1WDc/CTTjTVteOSxQ1PrVdpI9x1pEK9i/zVJXwhF0LEv1Uy0hqdqJYxKNNVYvGj9qMzw6ycrK/iiz9MPuuPDg0rJ4fbIad1FSetQrmu14cxlN7WQgj4lcuHGX2f3q5kYgzfpF3dnHE8z8K8Sj0nWXe2ZdwX6k/aiG90Z9KPybEvEMjQ72T0tBc1LZ1qi44MGBNyEcAXSjPPVNGLl6D0ErM+oN7NHPNjWAZfowMVSt+eLnQcERXp6nI8NoPbQeZVakYjR1zNtN3Un6QRAW+HmezjSACn2rw4eDqKkt3VaGgT2+ZYFxq2yf0fhf+y2tF9JnErp+Mwk+VWte47+vWk5nK60a++Fr9FHfkn6uuFJDfh7Cx3YKtMNsQGHHpDZMYXk0YQiAYxfKIVvbLQi4PxsQ2pWadtu9o3JXheVhaMcO5Q29LNhUH7iODV0WluQ8VEYjUM38kMmaSsxHSpnW5l+0rv81r/lDNd6M22t4gof/x8K1zy/HWtF692D8RHq5ExaehYJwbGohhfWZi9Pe7PS+CUbaPH+tD+ej9G9NFu5Cgw7zWh+4I4ES+3wfWk+g734a8IRkLKMJjxeWP6rXAjDLJJQEExXHJM8+gQfPI99bsAQmx8BP3ttUolaUjJnKxwOrUTk0/E0C+1UYvkSD6fduPYx7evOpLTuorzQokyfnsYA2/KddJGv4lFMHK2Az65/dJYbOpwmNGLHyStbwTDb/fAL5tLTGmKeD4F65Mu2GRsf7815dylbOeLPnhfkiMpTdGEjO4c8bpKEL0t3RgYTS5Tnej8KITo+H0ozBYUGBNyEvhtO075tRG4JmIIf9mrXvAVbM7HRJU2i1thERuOo1fN9XJiKHYp+0SOvtpxdiQxiqDyuf3oeLkGTW8OZb0YNS2t6Rb+PILRxK6ZmZnsY5OYb0wch1d64ftUH8XsB/zlP+QjcG/B3ymPM4lbOR2HGVmwTg4+cCOAkYw3U4L4wi+irXEd1i1CX+05fU+KHOJs8PWj6qgTmSw3w7m/HhV2eQpKNfJODTo+Ff9XmHls7+zfo6CPy506dn7sYieqTiSu0uljrcvmAQffVK++pVhhhPFmFNH458sROurFZ0Zh3OBB83OyfaA4vj7vRr0cFm+FA55XRYY6eVWI7krz8T0pU9HL/vTfo5EWJ+TQlC3qaDyTmIrhOaz1l0se4z/5qvlU/y+igsPTLD5LCwTKEJNiGTKcDfXvfFLcGkVvWysGspw1jevKcfBAiRoHp3hPw2ozfnQ9jEiWuBk3zfek5LQd0+W6rtEAev5/4uSboY23UcTdqIi7yqg58X5HEQy21eLUV9rLOBGjV4gYfTMR63OP54K2DVI/KyEizhmN4pyR8ewlzl0lL3hR/lDqBTaa2nx8T8pU4sdu8vekpJWD+Psk73d57B5pRt+1DIV6uQnFzx1GpVamM9Y9lkJM0ONd0nxzjgnxGKqXVW1yEsOaMtS/LD5PVK6V923KtB6J/098nr4Mad+TpJFDi7e2DSgXlSczomj3QdRsVtdppvVJ2em980UfAvp769tspsfdDPZx/Lv61D8liAS4vKUuPvJtznEr1+Mwky97UPP6EJBpvqn+NgsL+j0pss1byYGjaPaUwbFGGzFDKjDBusGNmtbmjAmKOLzwg7aF7dtcUxSq3Bk2VqJ6c2K0g3u1WyuG9ZU4vF9kn/qIHPILkDZVovlIOZTublo70sinPiVBwYpiVO5RExTJ+A8VqNggXt30o+edYUSmvbJHRLfV/aVoaKmBe4MVJv1qkfJlgqLc6wN6TEX5/wZUbEr6f/kFXGtLUPnq0URlRFLa/TajcrM6oqFCfJZ9Rw0O704K4AU2uOVw7Tsd8fbG4k1hLLShZG8zjuqVEUlrS6zMuyI1bnn3O5FtEKIFl+u6Gu2o+P+o8+mj7sgRbeT2r9+ldjJOZULJi2J+sb31+G1YJbbLs/UoT5s913ieC9PGahx9tRIlenttKencxQRlCZHH7sstqeVvuQFmWaYPt8QTlKwYE6axDhWv1ikxN16GV1iUdW6JJyiSWI+6BmVENbVjvphvlR1ltc04uFm715JjJ2CDzY2G1rQ4n7RP9ARlVgpEPXB/SWJbF8xyNKsZ7GPZJ6W51g2HPiKinG+NUxyfB1K+miPnuJXrcZjJQy64RMIWHepL+Y4W5YLS74dEgpTl2+gXwNzupMyWno2ucqGuya3cviKiO8uixw26801zd4PubIwJd5ssd6PpzqfdMYmuLUdbbYnSJSP0YRO8HwSnvxMzAwt7J2VWYvCfGYC8qWtzbWWCQkRERESULx6qwMEd1sTgUd/1w3cmCFjLcHC6OzHzaPFThLEB9MlmVUYntm+ea3d5IiIiIiKaT5btB+DZYMF9JgOi996H+1Y74DmQ3Hxv4S1ykpK4i2LZ4lJG+CIiIiIionxihOM5L6ofN8O42onqw4s/eNTt6ZNCRHc8xg0iSsaYQEQzkYd9UoiIiIiIiLJjkkJERERERHmFSQoREREREeUVJilERERERJRXmKQQEREREVFeYZJCRERERER5hUkKERERERHlFSYpRERERESUV/hljkQ0K4wbeWKsH97GPoS0l4ADnuOP4tK+bvi1Keo0j/hNtHAYE4hoJvhljkSUZ/zo3rcP+xr7kyrW+Sd01ot9Yjm7EzV9IiIiWiRMUoiIloINHhw/flz8yDsm8s6JfH4cng3a34mIiO4gTFKIiBYR79AQERFNj0kKERERERHlFSYpRESLJRZG4E/53BOHiIgoP3B0LyKaldnHDdlxvhv+wjJ4X7LBf/K36P9TGLEJwLDCCvs2N3Y/WQRT/BJKCP2NXvSNOeA55kbst13ouRhCbLX4/8OlsIg5IlcH8O775xAIRpT3QYEJ1g074dldDLNBeZOEyAgG3uvFuUAQkVvitcEI6/pSuHe5UGRSZ5FksyzvmRAcnuPw6MNiTYQxdKwZPVeiwAoHKhs9KFb+J4bwxV74zgxhdDwGLDfAZC3GU792w2k1Kv+qv186yw4xfbtcCyD8+Sn4fpd4D7PNibLflKN4lfLnzPTRvWSflOcmj9/lf2sfui9zdC9aeKxLENFMcHQvIspPt76A73AH+gJqgiLFbgbhP92Bxrf9EGlAmh/w2Zv18F0QCYo2vxT6sAm17b3wX9MSFOlWBMELPtS39iOUNC++60dTXQd6L2sJihSLIni5Fx11Tej/TpuWyUQEw28nEhTPq3qCEhWJwEHUnxhUkwtpIobItSH0NNWj2z95TTKJ+rvR/Hbqe4S/GoSvoRWDN9RJREREdwsmKUR0e9wIIogilL3Yhi45EtWxLnj3FsMsolL0cg96/FplPW4EgT8nza/cRYlg/HsDLCtMsD/jRdcxdUSrriM1cFnFvwT70PcH9b8xMYKe1/oQFEmLyVGBho6u+Lxl64zi70H0/a8B8Y6ZiETk7Ub4LouEw1SsJCgO9QYJIuc70a1Md6CioSNtXWQC48OwSIgs270po23JOzTytXoXJYzBszIxM8Pp0davqw01W6wwrhSJWDDzUhERES1VTFKI6DYxw7W/BqUPmaC0yFouko2Nlah7WmYXonL/eUBOTWHfWZWYXyGSk1118L7WhurHLTAsjyEaieCHe34M831qFjH2ndbE6g+DGLopHte48YrHCatRfRfDyiKU7i+H434H3E8/Kt4xnUw06rVERCQohyvjCYrIgnBuYFQ8inV5waM07Upel8onxbtNBHDpcnrClU0Uoa++xlgkitg9JhTtbEBHSx3K109eKiIioqWMSQoR3R4rHXjEpj1PYvrZw6LKL3wbSvuyRwse/Gl6BxNhIoKRs52of2Ef9u2rQk1tLWprm3AqkNrMKvTdmPJo+bl9ciJSIJKPRg9c6yYnA1ff0RIUwfqLnUkJihRGeFx9HGiSn5/60/qRegfkm2+DymN2ZpRsd8AokpTRj7rRVFuDquf3oerlTvRf5V0UIiK6+zBJIaI7WAyBk43oOBNAWOtjYjCZYFnrgF3rsD5X0ZvyDopJJBBA8P03pu63kkXkxvfas+yMDg+OvupB2WY7rCY1GYvdCKCvvRE9XyoviYiI7hpMUojo9rjhxxeypVSakN+PsHzy0weUkbumFsBnF+VdDgtKD2l9TNra4K31YPvae9VZNJb7C5XH0B8Ck/udTIyit7EGTZ2DmHTPw+pC3eE2HNxhVfutvOZDQO90DzPMyshbVriPqH1MMv5kGHUrRSSAU21eHDwdRcnuajS0iXU51oWGbXILROG/PKLOR0REdJdgkkJEt0kYA292oP/LCJQeG3KUrU+70f572cjLCOdGu5w6c/J9Lvrg+yQtFfn5VrhkQnGtF692D2D0htpPJBYNYuhYJwbGohhfWSjSjVSO7W7YjLLj+wsoXysm3ByG76Q++pgVW12yzVoQve0+DAej6roI8n2HT3hRc6gVvUlNzwxai7Xg1dH4vDCJDxgLIXqlF75P9dHLfsBf/kP5K+4t+Dv1CRER0V2C35NCRLMy5+9JWWmFNRZEUHZmT2Pc4EHzc7KPhqR/T4oFZYe9KFVviGhiCJw4iE7lbkoq4wqj0lQr+XtIlCGIW/oQzNSPPa1TfMbvSYmKZX9FLLtYZqt43wblfSMYfrMRPjk0cSarS1DTUI6iAvVl7GInqk4kBgXQl08OQVzfnWHo5eU2lLfUoWSl9jodvyeF8gTrEkQ0E/yeFCLKTwWPoLKxBmV2MwxaJDKYrHDubcbReIIyHQPsew6jeqsNWjcO5Qshnc+K99i1Tnkd+0/lQXV/KRpaauDeYIVJSxpQYIZtcyWaW5JH7crC6EDlnmK1f8rvfehTsh0TivcfRfPeEtgKtdG9BLkujp01aDucSFAkw8ZKVG+2QhtcDPdqt1Zkn5TmWjcc98ffAcY1TlQePpA9QSEiIlqieCeFiGaFcSNP8E4K5QnGBCKaieliBpMUIpoVxo08oScp2kuIVMRz/FFckk3qtCnqNCYptLAYE4hoJqaLGWzuRUREREREeYV3UohoVhg3iCgZYwIRzQTvpBARERER0R2FSQoREREREeUVJilERERERJRXmKQQEREREVFeYZJCRERERER5hUkKERERERHlFSYpRERERESUV5ikEBERERFRXmGSQkREREREeYVJChERERER5RUmKURERERElFeYpBARERERUV5hkkJERERERHll2d+EZcuWaS+JiIiIiIgWnkhDtGeTxZOUqWYiIkrHuEFEyRgTiGgmposZbO5FRERERER5hUkKERERERHlFSYpRERERESUV5ikEBERERFRXmGSQkREREREeYVJChERERER5RUmKURERERElFeYpBARERERUV5hkkJERERERHmFSQoREREREeUVJilERERERJRXmKQQEREREVFeYZJCRERERER5hUkKERERERHllWV/E5YtWwbxoE2agbF+eBv7ECosg/dwKSza5GShs154z4Rg2SEet2eaY3FErg3h3JnzuPRvQURuqdMMJivWbXwCT7mcsJrUaUSUm1nHDcH/1j50X9ZeJFtugMm6Do8+/hS2Oq0wLeXLKGMDaGrqRfBHTlQ3VcBeoE1fMCH0N3rRN2ZB2WEvSgu1yXku/HkPut8bRvBmDIZN1ejaY9f+Qpn50b2vW/x2wHPcI34vnrnEBMVEBCMfv4veDwPK/pYMq2xwbtuN7YscD0LnmtD8fhA/EsdcizjmDNr0BZNDfYpm6VYAPQ2dGPrBCndDA1x3SOzLd/p53OE5Ds8sA810MWPp30mJBTHwei1qW3owEEgkKFIsEkTgXA+a6mrRfSGsTSWi22Yihsi1AAbeaUJtXTeGxrXpS1Do8hCCsh4WGcJnf1KnUarYFR+a3xbbSauwxm6pj7QERUVFsrEWHaf98f0txcZHMSjiwaEj/QhNaBMXXAj+oSCU4nnhMwTUiXSn+tNnGIqIR1EfHLocUqfRHWFpJykTIfS3NqH3S3F0GixwPlOH5o4uHD9+XPx0oePVOlRsssAwEYH/ZDO6/VHtH4loMcgrMGp51H7e6ECDx4UieWcz4kdPSzeWarG0bHDCKi/Pmpx47GfqtHwn74zv27dPxEptwgLzXxiG3P3mTdVoOyaOj2cX875AvpN3TPZhX6OovGtT7lwx+N/xYei6eLq6GJWN2nn6WBeaXyxD0Qoxx7U+HP8waU3lnQe5/m/N7WDMfExb4HBalbsnpk2P4U65dyevbO/b50X/mDaBVD97DE55TjFY4dww83tUt2W7ztPxfadb0knKyLtH0RcUT1Y44DnqRcXjNpiN+k1bA4yrbXDu8aJlrwNGcSr0v9OLkUW7UkNEkxQYYXW4UdPSgFKreH1TVMRODCtXNJecQhcaukRFrG0xmnrdiUIIa3VS63q72tRn6d/7vzvdGsZnl2U6WoSK/1mJ4vu18/RyA8wPlaJmvwuWFRb86H+PQ14QXwyWrQ3oEolS22I09aKFVWBHRZuItV1s6nWnWboh/8YAej+VQc+C0pc8cBjVyZmYNu5G6VoRDAtjGP9Wm0hEt4/BirJny9R22VfOYfCGMpVup1gYgT+xqUS+iFz5I+Q1uCXh++/xvfLkRzD8F+VJKpsb3te8qNslklVlQgxhsf5zPhqX0jEdCeCPf9ae0/y5Ldt1no7vJeA2dZyPYvSjHryrd44zGGFdX4rdz7hgS0kmxI662AvfmSGMjov5lE61xXjq1244rVNkHULkfCtq3xsF7BXoqnbO4kqI9tkfDiM4FlWu5BpWWLDuyV3Ys60otQNfdBQD77yL/itBROXqrLDCvm03KrbYkLKU6Z0CxXpb1jnh3u2GfZU2jyb8+Sn4fpdYb7PNibLflKM4bT6i22U+Os5P3eEuhqHOKvQERB1lVxvqngAGWmrRe00U6z0dqN6UHgOC6D3UhIFxI5wvdqDioaQOxB1bEX6nB33+EGIToujd70DZP1bAtTb1PSJXB/Du++cQCEaU+VBggnXDTnh2F8McDyJ6B3QHKttKED75W/T/KSzmF/FprRM7ZTldKcr6hyfx238JIHxLjQnFuzyo+Aez9h6StnyFk+Nn7Powek/2Y/haSIkpKDDDtrEMlTuTlyO76FcD6PnnfgSuydhlgHGNHaX/Yytiv22d3HE+MoKB93pxTu+zp8XZnc+K9Vitfpgex9Mlx/Xctl1usg6ssMGD48+JA8bfjX3dfuXzD67zw/e2WNcbsaTjaWbnDnXZU7dX2a8rcd+HVWI5krfXFJ3StWWKL2NcjsuSfD59wYzBfzqNoa/EthTLEz+ulPivL0M6fZnSlzEyw3KjTZ6F2ceEEfTUdGAoCli31OCFp9POscn07aS9jEsuR/NxTCcdY6mD/mSoG8jO/Tsq4d5ozqGukaX+82QMPW2T61O5lKts5WVSecilPjMTep1GxLlgRHlXNdY8vRuudWmjEYl5g0Mf4OQZsQz6vIUiLm6bvN0S54cObB3vQc8ZP0JyPxZY4NhRMbluNT6MU//Uh6FRGYfFO8v98atKlMfjbSJmp5Tbaepu029XIcd6Xc7rlMvxnUkOx7yUXCevWj0I3/siLonYCYMJtk07UblLHFfpx0OW7fugvx4+ZZ2WWMf50Nl2tCZ3jotFEbzci9ZXepKaW0XFTj2I+hODamCXlE61Q+hpqp+2/8g3fxYJimBeY8shaKSLIXBC+2ytQCtTb4YQONOBxrf9Sjtphez30t6K3svqQS7FbgbhP92K+ndG1AmSnE+cKFI6BYr1DgUG0NnQhP7v1ElSVATH5rdT1zv8lTiYGlp5RZnuIgbY1qgnmbFvZQExoWSbbJoJBH7fP/kqcuC82tF+TSmeSqlojeGsUkbVBEWKfedH72vtKW2MQx82oba9F/5rWmVAuiVOrBd8qG/N1Gn3Kk4d7kBfQA3cMm5EZDlt6captxvRcUZNUJS/iJgw9HYzfFf0aJKdLP8HX/Fh8CstQZFuhTH6iViOl0Xlc+rQh9AnHahvk+uhx64Yotfk+nZiIL2tjDghNtV1KPErPqiIFmd9ja0pcWkqM9928yM22otmUbGTCUrCzM4dctkPKcueur1OtbTi7JzvrM/iPHbrC3EMyf0vExRJP658COj7aEZmW24WUxHcFeoyBj/qQO3zVah5uQmdJ06h//NRKHXaXM3TMZ1Z0v5MrhvIzv0n6nHwraS6QUYhDLbXZ67/HBvQ7iYlzE+5mkF9ZiaS6zTxHaTFmvZaNJ1NqmbLeY8cQtM7Q6nzjk293ca0uqJSmZduhZS6VXty36SoSMqV8qLHYfHOcn+8Lbbz+SkaB+Zad5vKDOp1upzWaaZmccz/xS8HJRHHhB47YxHlHNN8MhA/RqTYl6dQ35Bp+zbj1FX19UK6DUlKAP2/F2FyuQ1uvXPcG15UrDfBuOp7jGkRNHK+U2Sd4rA1OVDR0KG0DZWd6Lx7ZZYnA4UPw1ME7Ji2lQ33qI8zM4bwzVUwiaza9WKb+tnip6uxAvYVokxc7sOgXrkJ9Kv9Xta64X0jab6VRqy6MRY/IYxo/WMMa1yoadHWu6sNNTuKYJwIoq+rV5s3jMGzssCa4fRony3n22KFcaUIWsHFapFLlAfuUS8xRKM/KI8GR5napnh8COdThtyJYfiTIVFujHBsK9GahOhComyJcndELXddr6rlGKLcnf9UvZghIg7GvzfAssIE+zNedMlO2nLeIzVwyb4xwT70/UGdMyGK6Mqk99Xig+xHM3gZifcR5bdyg6x+RTH8L0NTt6m/MYhO5YRtgHVrDZrjMaUSxavF38V795yeYqwh8f89741k/n+zWN60mkDk+vcwrDbCtL4iHr/0eCO3T9/v1ev1lu1e5W+eDcpL5cqZfK1eYZ7Ntpua4zn5Hl6UaXd79M9LvUMhomVAbIuNlfFll1fzZnTuECf34x/IUZyMKNpRgzbZR0guu7K9ggjOsaPsrM5jN4IYtyX2R9sBF6zyTH1zGOcvyxObvBos/nZYaw5ZWAavfD3FcMOzKzeLy+jw4OirlXAq/VFEBVZsh8DFQfS93YraF0RF8LxWiSssVddXv3Qr71wp20O9yjw/x3Rm8f1pkHWDZvVYj+9PWTfoQe8UxTNyvkdU7LL8vyicqcUz93KVWl7knT91XnUTzaA+MwN6nSbl2NbrNGJy8IwPA9pFVWXea+LYNRWhTF8Gud6eEmXwkOjlbnRmSChC3yKxzF3Nop4o31m8tzhm9cgd/uQs/Dfl4Boerfx2oe1FUWZWmIF//yZ7vM2h7jb1dp1JvS5h2nWa5vjOJNdjPlkkOA6bflwd0+YVohfPJ2LSxAhOiUQmLJITk6MCDdrAU/IYLFsn5hXbfaHdljspiokIvv46iHBEZPYFFjj3t6HjUDVK1sg/BnFuQO4uM1wveJRb4kpVZbkosOKEVPmkCKUTAVxSAnZmBu32Sew/1ceZsaKkugFtrzXA/ZAJBpGRRiMR/HDvKphlJURUer5JT3pvfI3Rb8OIiJTccL8T1Uc60FAtCqD8261hDMj72MvtqHjJjaJV2sIZTCjaXgW3HDpk/BIu6aVOIbLxr77GmNw+94j5djago6UO5SKZI7pr/Kdaxo3GHymP8kTh2iYLTBRDZwYSJyBROT93RTyucmK7QytfcSa4dotyt1Kdblgtyucu9QQQGdeHHhcVgV118L7WhurHLTAs18r8PT+G+T71JDL2XXqhT3tfUe7dm7XmBXY3PMr7yD+YULzHrY4QNPo1vpGPWYQuDGJUnBCM4oTb8HQRzFqHesP9xah8rhQ2WwnKt4mzQxbx/99Qibr0/z/gVuNREtP6ctQd7kDbficsYt5YNIKIyAd/bL5PqWjg29DkZgeTzGbbzZNVLnhEBU8uu2pm547RT88r62fcVIma7UUw6aFZbq//KSosczpDzvY8Zof7WXV/SKZ1blRu0+4ohmc7VP5sys3iM6wuRoW8eNkljsmGGlTudMEukxbZpOa9o9O2oJDm55jOJITPBuX+NMLpkXUDs1q+tf3p2WaDbXM5SrMWz8T/OyrrJv1/3dOTSuc8latZ1GemM+HHoKzTiPd2H0o6trU6TfkGCxw73Xj0vvR5a1Aql0HOK9fbUY4Gj1PZL6MD5yZV6E1P7laXWb4wmOF8vlxNxG+ElYpzsuj1r/H1WATRWwaYHnKj4bXmpD5MU5iq7jaVWdXrZrZOuZrVMZ98jlou65iVKJUXwmRSqw/9/4dBDMlEpLAMB8R+smoDTxlWFqH0xUo41cNwQc0pBM+OHaW/lLs/DP87raivrUHVvn2oOtyD4et6sBY7S9lIYQw0yaHfUn9aP1JD7Dffph/SCQ/81KY8hq9ezZ5JTyUWxvDJJtRUic+Ut55ra1H7SsfkKw72UpTJ1Rn3o6e1HrU1Vcr83pPDCOurIw6+cXnwiROS74X09VHb3MurJqEx+Q9mlGxXRxsb/agbTXL7PC+2z8ud6L86qzUhukPFMHpNrZQV/uR+5VEybHwKLtnW95qoYGkhIPjxoHKCs+8oy3ByeVDEA+2p7l7tMRROBG9ZETrbiXqljGplvrYJpwLZKkYP4kE1zCRod34strRmpgXaSVxUENKrpMnGxMlEWrdeSWlSWctQV5favjhd/P8djtTPl1ba8bByEkoVudqPzkMibol4VFUj17kWTe8F0q7qTmPG226e/PTBtP09s3PH9zfU1+t+lmF7G9fhwZ9oz2dlluex1Q/AFk+6NNpxFR6b/a2dmZeb28hghMlahOItblQ3ikrjNnkNOQr/B4OTK1sZzMsxPckYvlE2/zo8nKl47qhD3ZT9rxL//8jPJ89k+tnD4uyfZr7KVa71mVxdD2FM1mkKH4F9pTopwYDi57zwbNH6ukw5r2B/WGwRYVyUF2VCwoNaPS5OJDYqUZGWw1UL5s3b4ZB3hL4aQHdTLWrktqqqRefZEUSmqvTnUnebyozqdQm5rNNszPSYz9QVQklYxF4I/bvyEqHv1APEvMEx+S6OSM6Ksl8vmzfzk6SIg1BPvNJ9fyO9laU4gW8XWf2hCrgcNlhWqJsp9p1sO9c+oz4XkQzvrTP990fUoCsO3HNpmexkUQy9WYPalk4MKcE7hH5x0Pou6G0VDTCuNMFqL4YtveP6cgtKD7Wh4RkXHGstUBJNUREJyTajrw/OKEEaFwe9pN729qBssx1W7dJe7EYAfe2N6PlSeUm09N0Y1JqmWPDwQ8nXw6wo2yFrCWEMfehH7NYwPvhIlJ1VLmwvTg+7KjX4TiWGwMnUfiQGkwmWtQ7Ykzs3LzHyyxIb2/sQ0PtLFJhgKrTBsd6qXoHLyZ237aY6dyy2ScsSr7TMt5mXm8URw8i5TjTVVqH7c21SCgOsG4vVStLYN6IqN7X5OabzwXyVqxnUZ26zeL8bnX4xaSpGBzxHmuHZUQL7GpMa62MRtb/Nu1P0LZnHuttU9HpdXC7rNEOzOeZn1xVi8c0tSREbQRmNS2SSn/m1jZNMTB9Wxj4Xs96v5WHXBtHZUov2YQvcHnkrU97abUOFHCN4YhSX/lUeGmaYlcJjhfuI1r4u009a++QUK0vw1Ea5cGEMvNmN4SmOuMjnPei9EkVk/D6sklfOxvwYlsmKOPgrlPbmXeg4Ig7m6nI8lnapI/iJCK517bhkccNT60VHl2yvV6EOefzVJXwhP3elGavkljY6Ua21K830o7SFjQRwqs2Lg6ejKNldjYY28fnHuhJXki7n2KGL6E4WC6LvTa09r92FEq1vgs5QvF25Khy9fBa9vzuHgDi5WZ/cCtusI5qIYRdlrJInLq3dbVsbvLUebF+7AGeVLAp/osbJq1cyNGyPDqHzpXq0vhfIegI1r1ID1FW/qIQqz5KMDmE47Upd4KL6ZYmWbQ1q2+Q32tB2uA6eXzw4g3Npfmw71czOHfr29l+U/TLS3PDjC+2Ow2RhhNMuqOlXHRPm4Tw2z+a/3MwHA+6LjSsdqv2DWSqH4bDaqVycS2ULoqnMzzGdSSEeUOLQVfwxU/G80ImaQ604dSVr6dSOh6v44g+T60ujQ8PiqEo2T+VqBvWZnK22oFAeM2NfIJDhwvLoaS9qWjoxeE28iM87DH+mDDPwR7FFBBG7LDM+DkUy8l4rvC+fQvSJclSLpEPu865Dav+N6OVhZKsx5VR3m8pM6nULbKGOefMq5YBF+LJ/8h1McT66NMO+hrMxx9BUBNcWrfL8liic2vCeUmx8BP2v+5QhBeWVmq0/V6djJfDXYAQhOWTbl/roJf8P9I7uxgLZ9tyKrS55SyyI3nafKGBJI1JEgxg+IQqACAa9U97yNMC+u1L9ltGbfvgOedHz0QiC+jAO4h2jQT/63/LikDK6hRGOZ9woyrZFboUxcvY4etNGM7gPfxXBNaQM/TYSHyVBb9JhhEHeti8ohks23hM71fd6P0b0bFdQtlN7rVKglbs4JjHfWAjRK73wfapvzx/wl/+QjyIJL/g79QnRUnQriqC/Fx2HmtAvy4P8ItZKtc1yiuU2lP5SXhUOYvC8mFGcKJ6Sbfznkxx156IPvk+mO1vNH8sTLqUfRPRCN5reS4wAI+NEb3sPAjdFNea/PZC1nbXV6dROzj60vj+ijYokY90Quo8NpFWCMpHzDsN3MnNlUe/rF7w6Go/JGWXddjGMiAqMbOJb+3puTXdmZmbnDsumErWCHuhB++mRxGhs34lt0K4lySkeRNFa+RhE/7tDif1zrQ++36evzXycx6YgllupgFz/GqO5HqKLUW5mQT/u8dUpNLYnnSMnYgh/2Y+OE2oSaXnciXhjGa0JHP48gtGpD8b5OaZFySr5hdx2UQx1NyXqO8oy9qL9twFERYXdYs1aOuF0avUln9jvev1HlpVPu3Hs4+lL59QxSayIsi4hfP1v0xwQWeozuCXiTKNs9lSLjk+mKJ3LHdj6pMxwxLHd0o0BcQAm1qUTnR+JOsz4fSiUzVnEvCVK54UQ+l7rQL++3vKuhf8UmrrVfWtzbRVbaKZMME6MIXQzgF5xjOjl8Yf/0MpUgRHZakw51d0UWbbrTOp1s5Hz8Z3J1Md8rgyOx9SkbawP7WI/pZyPXj+lXORYaHP7nhRpIoTB14+qI1ZkIr+U7VADShNNyhE62wTvmQx7boUTNW0VWqIQwfCbjfBdyfK+q0tQ01COovS2u+mio2JjtmNAjiyRzXLZealOGWFMFUJ/k1cd+SGFEcYVUWVEg/i40GL9+1syzSvmfrwGHc8UqS9uieVoa8VAlgPWuK4cBw+UqBUMfzfquzMMySdOMOUtdSjJ1K6TaJHNx/ekTEmOGvOyB071Ys5kEyPoqe1QOvZN/i4DKYfvtCjUx55Xh+nsVK5cpjKuMIoyH036DFHmM425L2T+Xigp07Jo0+LLoIr6fWh8azhje2rDmjLUvyzmVWJkZlnjq8EM8wp5ByDxvR+ymcDBN9WrcCnEOhvFOkfTli12sRNVJxKXkdX1NM9g2+nbQTLBVdcGd1oT7QR9OyfFW52+/yZ9J4k0s3NH6HwHjiojoqVZLrbBf5EjoqV9r8yXPah5PcOdF32bpSzTDJZF/36EtG0uxb/TI+W99e830V7Gj60pjntp2nIze3OJCVGRKDa/OZS187ByjnxRnCP1Y//WMDpf9CUqStp2M8/LMS3+qh1jqdtIJBgnGtF9MXOSYH2qXmv1kMUU9QXDajN+dD2MSHz5ZhKTVMH369F0LpHsqOVmBvUZvVxJK12oO+JOJIXp5LocaVZH7Uq33ITi5w6jUv8W7anmFYziuG4Wx7V+MSrxnSJp5T5+bCeVSTkE8StimuzgnUb9fi1Zr9NjSVKZyLXuJmTeruLJDOp1M1onKcvxnenomkkcz36O0rdR6jJmr4+K88lKtd/d5HXK3cJ/T8pyC0oOHEXz3hLYCrXOoYL8oiDb5go0tKQmKJLsk9L8rJhfGxVHtsE128tQ06gnKJI4yPdneF+TFY6dNWg7nEOCIhltcB/qQFtdBUrWWmBKyo6NK8V77fDA+7ocBi756ocFpXUNyggVelt2wyo7ymqbcVAfveev6oParrEZlZtt8ZFh5Bev2XfU4PDuxEGOArkcbajZ6Yj3M1GWodCGkr3NOKodyJLsk9Jc64ZDGYpREvOtcaLy8AEmKLS0iVhgWmOHa68XXa1TJChS7AdEZQBfbkepckd3Lgyw7zmM6q2Jciy/2Mv5rCibu9TegbMbKXDmjI5KtByuVOKVNpiKsiwy7rVMk6BISp+/AyJ+rNHjph4/quBURvNJMKyvxOH9rkQsll8st6kSzUfK1c6sE6mVCsPGSlRvtsaX617lMvRMtp0dj21a6Cv3Mzt3WJ4QsTple4l573fA/VI1XJkW9aEKMX8Z7PHRfMQ22+BG3fOuDE2R5uk8lpEV7qrylOXQ339K81pu5o/RXoHm1gZUiHOpPiqdWKnUc2TysV9QjMr9JbBq/VpRYFDWf36O6WyMcOxtSdufsnyJ4+VAy9QJiqT1g1DqAfpya8vn3e9MO35mHpOsv6pCuV0bNUwul/J/M6jP/OwxtfVJLuS6vNySWqeRdbm1JSLWtCQSFEmbt+EZZ+b6T1KCMmOyT8qrdXAnr5/cTuJ9DygJSha51t2EzNtVmEG9bsayHN+ZzPSYnwl9aPCStfr6i7eXx89L9Sj/e/X1Qpr7nRQiuivd7rihXxEyb6lD886s1/soH432orYthJ2vV6N41pX0haZfWUy7wnmHW8hyw7rE0jB6uhat13eia39x1oox0XxY+DspRESL7ZYffR+FRASzwbWFCcodJTKC3ncHcd8v3XmcoCxRLDc0jcjVXrz7yX0o+xUTFLr9mKQQ0R0n9FEf5Pe6GTduZxPIO0oI/V0+hBwHcGAe+0JQblhuaEpj/XjjRAiPvHhgUjN9otuBSQoR3Vn0q8GwwKWMtkN3DtkOvA3V222zb4NOs8NyQ9MpLEXDkWqUrmXppPzAPilENCuMG0SUjDGBiGaCfVKIiIiIiOiOwiSFiIiIiIjyCpMUIiIiIiLKK0xSiIiIiIgorzBJISIiIiKivMIkhYiIiIiI8gqTFCIiIiIiyitMUoiIiIiIKK8wSSEiIiIiorzCJIWI8pgf3fv2Yd++bvHszhE614Qqsdy1JwOIadOIKN8x3hDlEyYpRETzKgT/UFCpLEQufIaAOpGIaAEw3tDSxSSFiGheWeBwWmEQz0ybHoNdnUhEtAAYb2jpYpJCRDTPLFsb0HX8ONr22JXKAxHRQmG8oaWKSQoREREREeWVZX8Tli1bBvGgTSIimt5c40bs+jB6T/Zj+FoIUdmgusAM28YyVO4shjl+OVB2ZJWdWB2obHsM3xw/hcHRMGITgOF+B8r+sQKutUZtXimG8MVe+D4cRnAsqrTTNqywYN2Tu7BnWxFM8csyiff1dGxF+J0e9PlDU7yvEAtj+LQPfRdHEb4lXhuMsK4vw571I2g64Qc2eHD8OYc6r78b+7r9sOzwwrvdokwKnRXPz4SUaVWrB+F7fwijN8QSGkywbdqJyl1ivVMuG2nrckbMN66sCYxr7Cj79SMYafKpy37cI34T5YfZx4Sk8ph+TGtlKbl8zbwsLVS8ASJXB/Du++cQCEaU+VBggnXDTnh2Z37f/I03+rr0I3BNi52rbCjZVQbD+x3oH7Og7LAXpYXqvETzYbqYwTspRLToouKkevAVHwa/0ioM0q0wRj/xof5lcTKPatPiruLU4U4MfKVWGKTYd370vtYuTp7qa1mpD5w4iPoTgxjVEhRl6s0QAmc60Pi2H5PeFmM4296K3stqhUGa/L5C1A/foXr4PtEqDFIsiuDlU2g6ObNxgP7i96H5bbGMssIgxSLKejenjMwThf/EIXVdlARFiiF6zY9TLTJBIaLcytJCxRuRCHzYhNr2XvivaQmKdCuC4AXxvq39COnT4vI13qjrckhZl6TYOT6KgTdFgnJdm0C0yJikENHiujGIzrdkwmCAdWsNmt84juPHj6OrsRLFq8Xfb/rRczp9jJoookYnPEe61HlfrYB9hZg8EcT5T0fVWUQFIHxzFUwrrHC92Ka00VbfV503erkPg8kVAUUIQbhQM+X7AiP/Vw+GI+KJyYGKhg71vY91wbu3GGZ1lpxFguOwPeNF1zH5Hm2o2WJVpkcvnsewXiH5shc9F8UHLjfB8UwDOrqSttFMP5BoicqpLC1YvIlg/HsDLCtMsOvLIOc9UgOXXIxgH/r+oM6ZkKfxRmyjnjNyhLC0bSTWpWydUSyfNh/RImOSQkSLKnRhEKPipGfc5EHD00UwF6jTDfcXo/K5UthsJSjftk6dGGeCa28FHCvV9hOG1U5U71KbOkTGw8ojYEVJdQPaXmuA+yETDBMxRCMR/HDvKphlRUBUEL4JKTMmEe+7242iKd93BMOX5aVWM1wveOC0GtXOqctFBWVjJeqeVk/6ObO74XncAoOMviIJKdpZiVJZWZJJ1rh8FJ94Wb3rY97ygpjXCqPWbETZRgfcYk2JKJeytHDxRiQnu+rgfa0N1coyaPHmnh/DfJ/adGvsu/SAk5/xJvKvl5RthPUV4v2TttHKIpS+WAlnWks0osXCJIWIFtXYt+qJe936DINlWstQV1eO4tVarTzuQTzw/2/v/kOivuM4jr9y3R874oYoLBm3woQa3D9H7BIKdAMb2ZjBDGZ/OOLGNNDAwinpSJnKmpCBxmxwSP6RQQYl6/rDYAxmiP8IcTBjLNYOchsXQWwXw83t+73v9zTrSj3vrm/1fPzz/Z4e971/7v39vL6fX5vt06T19nE2ZsQPmzmO+2yXmhrqVHeoQU3NzWr+vC9FD0rSSj73geKJ4SBebUnRPvAUrO7ZZuGmYqvR8ZBEA0LG9X5PvNQD64LyFqe4YH7hqp+mAi+ilfyWslpv5u9r5kq/2g6bG0Da9aa5SyMR6/f7OGfWm7/iDxLHos3WUsZL5BWo0GOfAzlGSAHwXLBurE8zq/CJNoWuR+1x5y658z3y+gIqLki8IaXlP9dlvyeqn6OJPyyx+AR0ZVyv2CdP4bJbCtFbKS54L2Y0LwCs5LeUruXrwpwiZ4+rbyyyMG/E5fGoqMQvn/fJXQ+OrDd5VlKa/cXaFHKJ+buKmUPPgGdg2Z8LAGTSxjes1Wdu3kixN3J8Qv1H23TifESrvi/+Nq0p86bu9qs2MeZ7QH1f9qq9sUa71tT14NOOUrPREdP4NyHjGvbE0vk5zU6GdOJiipbEGvne3qnEFa8NKjSZDF1Gs+jOlEInR43mC/AiMgL4PfvUNnvnid2gK5K1eqOIfpg0uzyKVHnMnmPS26uO5nrtLUl2j6Qj9/WmsHSHNYT0xogGrswshK65ezMKnwpp4kkdQ0CWEVIA5FTROxXyGZUnfn1QXeenNZu8Id6d0ejJYUX+jEmvv6mMjDD4O6aZK2c0etN+nSbf/loFzC/0hxESuprUUGcNJ+sYmlLcnYUB275q1ZYaF5yPaWrIHr5mXLOh02i0xN2JAAO8OLZoW4l5jCp8bmKxJty+rNC3C4Or0pLTemOuwGUEidD3a+t6yHm9ya9QcJ851CuumbE+e/iaUW9a+3T5JykblwRWgpACILfcOxX8NCBP3pyi3w2qI3lDPNan8ajk2lSl2rI0mgwb/QqYjwPj0xpubUh8Zt3hNvWN/SolJs6vgduvYE+3gmXFC5NKE/sNlAXV9tGjk24zwS3/wR51HyxXcUFylLhLnpJyBY/VKBtXBJ4dj8rft3oP4zeGF2tCT1hRo4W8pjZytuqNfNqV6PGYVbjHrjcNTerKRJDIeb0xwtyedvUcqZZ/kz1R32Du4VJ9tFEVGUlwwOoRUgDknNsfVE9nUOUlRYsrV23wyr+/ST2tlSpKqzIVqbKlXTXb7ZVsDK4Cn6qau/VZmT3e6x/rkBZXoQIHWhaW5zwz0KsWc8M2+98LE0kyxqXC0hq19FhDSczha73NNQrk2//Ocy00JoDn3lu16jxSJV8ylJubF26vVsuhCr1m/SVt2ak3Lvk+7lTj7mJ5HvrMnZ906ys7SMz9mzikJ+f1xoiKWytUb4S3xeXb61VR8qq9p8t6WozIOXacB5CWl6duRBQ61K8p+RQ81ahA8smmLXK2Sf3X4/Lu61b7njVNflkQGapT/6TkOzigxtJHGiORYTX1TyjurVJ3eyUrfcExaEtkQu7rTexql9ouRVW4u13djy5xfG9cXa2jiuYF1Ph10PhWQOaw4zwArIk9kXU+opHTYc08vHPztX6FjAaDuVzojtLMxYXkxPnIhQGFf7xvr7gzp/u3xtU/ZAQU45W3dBcBBXjh5L7eJCfOWwt1LN0Nf+S0tVCH23gPAQW5Rk8KgLS8VHUjPq3Q8UFrF+gUvB90qH2vtYpQZsQ1PXRcg+au86l4q9RxLN1hKkB20JbIkJzXG2n2ape6L6VYgti0wa/6L+rlX+NUG+BRy9UMQgqAtLx0dcPcKPJCSJcnb1lLdOa55PH6tPvDA6rYmo2ZpXOKTY4qNDahW3etpoPL45XvvWodeHebPAQUOAxtiQzKeb2R7t8c17mLYUVuW8seuzYUybu9UsH9ARVmfgoMQEgBkB3UDQAPoyYAWI3lagbP4gAAAAA4CiEFAAAAgKMQUgAAAAA4CiEFAAAAgKMQUgAAAAA4CiEFAAAAgKMQUgAAAAA4CiEFAAAAgKMQUgAAAAA4CiEFAAAAgKMQUgAAAAA4CiEFAAAAgKOs+8+wbt06+yUAAAAAZJ8RQ+yzxyVCin0OAAAAAM8cw70AAAAAOAohBQAAAICjEFIAAAAAOAohBQAAAICjEFIAAAAAOAohBQAAAICDSP8Dbnt3l1ttH1QAAAAASUVORK5CYII=)"
      ],
      "metadata": {
        "id": "gY8h28ZK8t6F"
      }
    },
    {
      "cell_type": "code",
      "source": [
        "#Q44)Write a Python program to create a tuple with different data types.\n",
        "def create_tuple(data):\n",
        "    tuple_data = ()\n",
        "    for item in data:\n",
        "        if isinstance(item, (int, float)):\n",
        "            tuple_data += (item,)\n",
        "    return tuple_data\n",
        "data = [1, 2, 3, 4.5, \"hello\", True]\n",
        "result = create_tuple(data)\n",
        "print(result)"
      ],
      "metadata": {
        "id": "lBZGRXwj81SO",
        "colab": {
          "base_uri": "https://localhost:8080/"
        },
        "outputId": "9c930001-232f-4935-94cd-967b9aef9a71"
      },
      "execution_count": 93,
      "outputs": [
        {
          "output_type": "stream",
          "name": "stdout",
          "text": [
            "(1, 2, 3, 4.5, True)\n"
          ]
        }
      ]
    },
    {
      "cell_type": "code",
      "source": [
        "#Q45)Write a Python program to unzip a list of tuples into individual lists.\n",
        "def unzip_list(data):\n",
        "    if not data:\n",
        "        return [], []\n",
        "    keys = [item[0] for item in data]\n",
        "    values = [item[1] for item in data]\n",
        "    return keys, values\n",
        "data = [(1, 'a'), (2, 'b'), (3, 'c')]\n",
        "keys, values = unzip_list(data)\n",
        "print(keys)\n",
        "print(values)"
      ],
      "metadata": {
        "id": "XQCULUTq9Ngu",
        "colab": {
          "base_uri": "https://localhost:8080/"
        },
        "outputId": "246428ba-b439-4662-9401-a7357465b2a1"
      },
      "execution_count": 100,
      "outputs": [
        {
          "output_type": "stream",
          "name": "stdout",
          "text": [
            "[1, 2, 3]\n",
            "['a', 'b', 'c']\n"
          ]
        }
      ]
    },
    {
      "cell_type": "code",
      "source": [
        "#Q46)Write a Python program to convert a list of tuples into a dictionary.\n",
        "def tuples_list(data):\n",
        "    dictionary = {key: value for key, value in data}\n",
        "    if not data:\n",
        "        return {}\n",
        "    return dictionary\n",
        "data = [(1, 'a'), (2, 'b'), (3, 'c')]\n",
        "result = tuples_list(data)\n",
        "print(result)"
      ],
      "metadata": {
        "id": "q5VtNIZl9UX6",
        "colab": {
          "base_uri": "https://localhost:8080/"
        },
        "outputId": "71ca2621-7cd6-4343-8625-0621102900ba"
      },
      "execution_count": 108,
      "outputs": [
        {
          "output_type": "stream",
          "name": "stdout",
          "text": [
            "{1: 'a', 2: 'b', 3: 'c'}\n"
          ]
        }
      ]
    },
    {
      "cell_type": "code",
      "source": [
        "#Q47)How will you create a dictionary using tuples in python?\n",
        "def create_dict_from_tuples(tuples):\n",
        "    if not tuples:\n",
        "        return {}\n",
        "\n",
        "    dictionary = {}\n",
        "    for key, value in tuples:\n",
        "        dictionary[key] = value\n",
        "    return dictionary\n",
        "create_dict_from_tuples([(1, 'a'), (2, 'b'), (3, 'c')])\n",
        "result = create_dict_from_tuples([(1, 'a'), (2, 'b'), (3, 'c')])\n",
        "print(result)"
      ],
      "metadata": {
        "id": "v-Pwh2Mf9Yb0",
        "colab": {
          "base_uri": "https://localhost:8080/"
        },
        "outputId": "8ce0df30-f6c2-4339-d497-be37d4611f42"
      },
      "execution_count": 109,
      "outputs": [
        {
          "output_type": "stream",
          "name": "stdout",
          "text": [
            "{1: 'a', 2: 'b', 3: 'c'}\n"
          ]
        }
      ]
    },
    {
      "cell_type": "code",
      "source": [
        "#Q48)Write a Python script to sort (ascending and descending) a dictionary by value.\n",
        "def sort_dict_by_value_ascending(d):\n",
        "    sorted_dict = dict(sorted(d.items(), key=lambda x: x[1]))\n",
        "    return sorted_dict\n",
        "my_dict = {'b': 3, 'a': 1, 'c': 2}\n",
        "sorted_dict_asc = sort_dict_by_value_ascending(my_dict)\n",
        "print(\"Dictionary sorted by value (ascending):\", sorted_dict_asc)"
      ],
      "metadata": {
        "id": "yFkudWIn9dE7",
        "colab": {
          "base_uri": "https://localhost:8080/"
        },
        "outputId": "156bc1c3-1895-4da7-f380-a0c7c7282da0"
      },
      "execution_count": 119,
      "outputs": [
        {
          "output_type": "stream",
          "name": "stdout",
          "text": [
            "Dictionary sorted by value (ascending): None\n"
          ]
        }
      ]
    },
    {
      "cell_type": "code",
      "source": [
        "#Q49)Write a Python script to concatenate following dictionaries to create a new one.\n",
        "def concatenate_dicts(dicts):\n",
        "    if not dicts:\n",
        "        return {}\n",
        "\n",
        "    result = {}\n",
        "    for d in dicts:\n",
        "        result.update(d)\n",
        "    return result\n",
        "\n",
        "dicts = [{'a': 1, 'b': 2}, {'c': 3, 'd': 4}]\n",
        "concatenated_dict = concatenate_dicts(dicts)\n",
        "print(concatenated_dict)"
      ],
      "metadata": {
        "id": "xZOND6Zx9qpb",
        "colab": {
          "base_uri": "https://localhost:8080/"
        },
        "outputId": "83cee18a-e282-46dc-e9bf-894183ecced7"
      },
      "execution_count": 120,
      "outputs": [
        {
          "output_type": "stream",
          "name": "stdout",
          "text": [
            "{'a': 1, 'b': 2, 'c': 3, 'd': 4}\n"
          ]
        }
      ]
    },
    {
      "cell_type": "code",
      "source": [
        "#Q50)Write a Python script to check if a given key already exists in a dictionary.\n",
        "def check_key_in_dict(key, d):\n",
        "    if key in d:\n",
        "        return True\n",
        "    else:\n",
        "        return False\n",
        "my_dict = {'a': 1, 'b': 2, 'c': 3}\n",
        "key_to_check = 'b'\n",
        "exists = check_key_in_dict(key_to_check, my_dict)\n",
        "if exists:\n",
        "    print(\"The key\" ,key_to_check, \"exists in the dictionary.\")\n",
        "else:\n",
        "    print(\"The key \",key_to_check, \"does not exist in the dictionary.\")"
      ],
      "metadata": {
        "id": "ITwIaJNf9zE9",
        "colab": {
          "base_uri": "https://localhost:8080/"
        },
        "outputId": "36cb7199-4a29-4d6a-fd72-84b9792b5ba4"
      },
      "execution_count": 123,
      "outputs": [
        {
          "output_type": "stream",
          "name": "stdout",
          "text": [
            "The key b exists in the dictionary.\n"
          ]
        }
      ]
    },
    {
      "cell_type": "markdown",
      "source": [
        "#Q51)How Do You Traverse Through a Dictionary Object in Python?\n",
        "Iterating through a Python dictionary involves looping over its keys and values. The basic method is to use a for loop. For example, for key in dictionary: print(key, dictionary[key]) . This will print each key and its corresponding value."
      ],
      "metadata": {
        "id": "bsjSB3lBk3d7"
      }
    },
    {
      "cell_type": "markdown",
      "source": [
        "#52)How Do You Check the Presence of a Key in A Dictionary?\n",
        "To check if a key exists in a Python dictionary, use the get() method. This method returns the value for the specified key if the key is in the dictionary, else it returns None (or a specified default value). For example: my_dict = {'apple': 1, 'banana': 2, 'cherry': 3} key_to_check = 'mango' if my_dict."
      ],
      "metadata": {
        "id": "ox3R6SaIlbcs"
      }
    },
    {
      "cell_type": "code",
      "source": [
        "#Q53)Write a Python script to print a dictionary where the keys are numbers between 1 and 15.\n",
        "i=1\n",
        "dict={}\n",
        "while i<=15:\n",
        "  dict[i]=i*i\n",
        "  i+=1\n",
        "print(dict)"
      ],
      "metadata": {
        "colab": {
          "base_uri": "https://localhost:8080/"
        },
        "id": "ty9sWNtOl1nT",
        "outputId": "68800939-abf7-44e6-900b-3633ac83cf55"
      },
      "execution_count": 1,
      "outputs": [
        {
          "output_type": "stream",
          "name": "stdout",
          "text": [
            "{1: 1, 2: 4, 3: 9, 4: 16, 5: 25, 6: 36, 7: 49, 8: 64, 9: 81, 10: 100, 11: 121, 12: 144, 13: 169, 14: 196, 15: 225}\n"
          ]
        }
      ]
    },
    {
      "cell_type": "code",
      "source": [
        "#Q54)Write a Python program to check multiple keys exists in a dictionary\n",
        "def check_multiple_keys_in_dict(keys, d):\n",
        "    for key in keys:\n",
        "        if key not in d:\n",
        "            return False\n",
        "    return True\n",
        "my_dict = {'a': 1, 'b': 2, 'c': 3}\n",
        "keys_to_check = ['a', 'b', 'd']\n",
        "all_exist = check_multiple_keys_in_dict(keys_to_check, my_dict)\n",
        "\n",
        "if all_exist:\n",
        "    print(\"All keys exist in the dictionary.\")\n",
        "else:\n",
        "    print(\"Not all keys exist in the dictionary.\")"
      ],
      "metadata": {
        "colab": {
          "base_uri": "https://localhost:8080/"
        },
        "id": "fuSBv3B8mY2C",
        "outputId": "fe5b4312-943a-4fa7-81ef-d34b44cada4b"
      },
      "execution_count": 125,
      "outputs": [
        {
          "output_type": "stream",
          "name": "stdout",
          "text": [
            "Not all keys exist in the dictionary.\n"
          ]
        }
      ]
    },
    {
      "cell_type": "code",
      "source": [
        "#Q55)Write a Python script to merge two Python dictionaries.\n",
        "def merge_dicts(dict1, dict2):\n",
        "    merged_dict = dict1.copy()\n",
        "    merged_dict.update(dict2)\n",
        "    return merged_dict\n",
        "dict1 = {'a': 1, 'b': 2}\n",
        "dict2 = {'c': 3, 'd': 4}\n",
        "merged_dict = merge_dicts(dict1, dict2)\n",
        "print(\"Merged dictionary:\", merged_dict)"
      ],
      "metadata": {
        "colab": {
          "base_uri": "https://localhost:8080/"
        },
        "id": "jiLQg2MEmuV6",
        "outputId": "a1ba4028-1997-44a7-dc36-4e48b0900547"
      },
      "execution_count": 126,
      "outputs": [
        {
          "output_type": "stream",
          "name": "stdout",
          "text": [
            "Merged dictionary: {'a': 1, 'b': 2, 'c': 3, 'd': 4}\n"
          ]
        }
      ]
    },
    {
      "cell_type": "code",
      "source": [
        "#Q56)Write a Python program to map two lists into a dictionary. Sample output: Counter ({'a': 400, 'b': 400,’d’: 400, 'c': 300}).\n",
        "def lists_to_dict(keys, values):\n",
        "    mapped_dict = {k: v for k, v in zip(keys, values)}\n",
        "    return mapped_dict\n",
        "keys = ['a', 'b', 'd', 'c']\n",
        "values = [400, 400, 400, 300]\n",
        "mapped_dict = lists_to_dict(keys, values)\n",
        "print(\"Mapped dictionary:\", mapped_dict)"
      ],
      "metadata": {
        "colab": {
          "base_uri": "https://localhost:8080/"
        },
        "id": "5CPl1KMWmz6-",
        "outputId": "1b5aba70-ad44-4a99-9ab3-18de05c11479"
      },
      "execution_count": 128,
      "outputs": [
        {
          "output_type": "stream",
          "name": "stdout",
          "text": [
            "Mapped dictionary: {'a': 400, 'b': 400, 'd': 400, 'c': 300}\n"
          ]
        }
      ]
    },
    {
      "cell_type": "code",
      "source": [
        "#Q57)Write a Python program to find the highest 3 values in a dictionary.\n",
        "def highest_three_values(d):\n",
        "    sorted_items = sorted(d.items(), key=lambda x: x[1], reverse=True)\n",
        "    top_three = sorted_items[:3]\n",
        "    return top_three\n",
        "my_dict = {'a': 10, 'b': 5, 'c': 20, 'd': 8, 'e': 25}\n",
        "top_three = highest_three_values(my_dict)\n",
        "print(\"Original dictionary:\", my_dict)\n",
        "print(\"The highest 3 values in the dictionary are:\")\n",
        "for key, value in top_three:\n",
        "    print(f\"{key}: {value}\")\n"
      ],
      "metadata": {
        "colab": {
          "base_uri": "https://localhost:8080/"
        },
        "id": "wp7PFWGnnQ8E",
        "outputId": "a554f9a8-23d9-448b-a4ec-d4c165b5d656"
      },
      "execution_count": 131,
      "outputs": [
        {
          "output_type": "stream",
          "name": "stdout",
          "text": [
            "Original dictionary: {'a': 10, 'b': 5, 'c': 20, 'd': 8, 'e': 25}\n",
            "The highest 3 values in the dictionary are:\n",
            "e: 25\n",
            "c: 20\n",
            "a: 10\n"
          ]
        }
      ]
    },
    {
      "cell_type": "code",
      "source": [
        "#Q58)Write a Python program to combine values in python list of dictionaries.\n",
        "from collections import Counter\n",
        "item_list = [{'item': 'item1', 'amount': 400}, {'item': 'item2', 'amount': 300}, {'item': 'item1', 'amount': 750}]\n",
        "result = Counter()\n",
        "for d in item_list:\n",
        "    result[d['item']] += d['amount']\n",
        "    print(result)"
      ],
      "metadata": {
        "colab": {
          "base_uri": "https://localhost:8080/"
        },
        "id": "cLrdGaqdnbMy",
        "outputId": "032abfec-1536-4b6c-8b90-f6d7f3598656"
      },
      "execution_count": 16,
      "outputs": [
        {
          "output_type": "stream",
          "name": "stdout",
          "text": [
            "Counter({'item1': 400})\n",
            "Counter({'item1': 400, 'item2': 300})\n",
            "Counter({'item1': 1150, 'item2': 300})\n"
          ]
        }
      ]
    },
    {
      "cell_type": "code",
      "source": [],
      "metadata": {
        "id": "LArf8sif8b8c"
      },
      "execution_count": null,
      "outputs": []
    },
    {
      "cell_type": "code",
      "source": [
        "#Q59)Write a Python program to create a dictionary from a string. Note: Track the count of the letters from the string.\n",
        "my_string = \"Stranger Things!\"\n",
        "my_dict = {}\n",
        "for letter in my_string:\n",
        "    if letter in my_dict:\n",
        "        my_dict[letter] += 1\n",
        "    else:\n",
        "        my_dict[letter] = 1\n",
        "print(my_dict)"
      ],
      "metadata": {
        "colab": {
          "base_uri": "https://localhost:8080/"
        },
        "id": "HOWyf0RopWW4",
        "outputId": "4ee968df-bb7f-4f32-c937-284fa1a28b49"
      },
      "execution_count": 20,
      "outputs": [
        {
          "output_type": "stream",
          "name": "stdout",
          "text": [
            "{'S': 1, 't': 1, 'r': 2, 'a': 1, 'n': 2, 'g': 2, 'e': 1, ' ': 1, 'T': 1, 'h': 1, 'i': 1, 's': 1, '!': 1}\n"
          ]
        }
      ]
    },
    {
      "cell_type": "code",
      "source": [
        "#Q60)Write a Python function to calculate the factorial of a number (a nonnegative integer)\n",
        "def factorial(n):\n",
        "    if n == 0:\n",
        "        return 1\n",
        "    else:\n",
        "        return n * factorial(n - 1)\n",
        "\n",
        "number = 5\n",
        "print(\"The factorial of {number} is :\" , factorial(number))"
      ],
      "metadata": {
        "colab": {
          "base_uri": "https://localhost:8080/"
        },
        "id": "0gcSUVC9saZE",
        "outputId": "4db8d9e6-ba15-4d63-82d1-be517409727a"
      },
      "execution_count": 45,
      "outputs": [
        {
          "output_type": "stream",
          "name": "stdout",
          "text": [
            "The factorial of {number} is : 120\n"
          ]
        }
      ]
    },
    {
      "cell_type": "code",
      "source": [
        "#Q61)Write a Python function to check whether a number is in a given range.\n",
        "def in_range(number, start, end):\n",
        "    if start <= number <= end:\n",
        "        return True\n",
        "    else:\n",
        "        return False\n",
        "number = 15\n",
        "start = 10\n",
        "end = 20\n",
        "if in_range(number, start, end):\n",
        "    print(number,\" is in the range\",start,end)\n",
        "else:\n",
        "    print(number,\" is NOT in the range\",start, end)"
      ],
      "metadata": {
        "colab": {
          "base_uri": "https://localhost:8080/"
        },
        "id": "XeUaHidetAYU",
        "outputId": "d995a6bb-ebfa-4267-cc22-d9c02517798e"
      },
      "execution_count": 48,
      "outputs": [
        {
          "output_type": "stream",
          "name": "stdout",
          "text": [
            "15  is in the range 10 20\n"
          ]
        }
      ]
    },
    {
      "cell_type": "code",
      "source": [
        "#Q63)Write a Python function to check whether a number is perfect or not.\n",
        "def is_perfect(n):\n",
        "    divisors = []\n",
        "    for i in range(1, n):\n",
        "        if n % i == 0:\n",
        "            divisors.append(i)\n",
        "    return sum(divisors) == n\n",
        "n = 6\n",
        "if is_perfect(n):\n",
        "    print(n, \"is a perfect number.\")\n",
        "else:\n",
        "    print(n, \"is not a perfect number.\")"
      ],
      "metadata": {
        "colab": {
          "base_uri": "https://localhost:8080/"
        },
        "id": "njxG3-wK8fQr",
        "outputId": "5a86031b-0332-4568-ea02-5d4e22d08047"
      },
      "execution_count": 132,
      "outputs": [
        {
          "output_type": "stream",
          "name": "stdout",
          "text": [
            "6 is a perfect number.\n"
          ]
        }
      ]
    },
    {
      "cell_type": "code",
      "source": [
        "#Q64)Write a Python function that checks whether a passed string is palindrome or not.\n",
        "def is_palindrome(string):\n",
        "    return string == string[::-1]\n",
        "string = \"malayalam\"\n",
        "if is_palindrome(string):\n",
        "    print(string, \"is a palindrome.\")\n",
        "else:\n",
        "    print(string, \"is not a palindrome.\")"
      ],
      "metadata": {
        "colab": {
          "base_uri": "https://localhost:8080/"
        },
        "id": "I8Ffhb7e8nW6",
        "outputId": "7f314448-11e1-427f-bdc9-89a132065b04"
      },
      "execution_count": 133,
      "outputs": [
        {
          "output_type": "stream",
          "name": "stdout",
          "text": [
            "malayalam is a palindrome.\n"
          ]
        }
      ]
    },
    {
      "cell_type": "code",
      "source": [
        "#Q65)How Many Basic Types of Functions Are Available in Python?.\n",
        "There are many basic types of functions in Python, including"
      ],
      "metadata": {
        "id": "Co45a-CT8vOa"
      },
      "execution_count": null,
      "outputs": []
    },
    {
      "cell_type": "markdown",
      "source": [
        "#Q65)How Many Basic Types of Functions Are Available in Python?\n",
        "Mainly, there are two types of functions: User-defined functions – These functions are defined by the user to perform a specific task. Built-in functions – These functions are pre-defined functions in Python."
      ],
      "metadata": {
        "id": "lqGqfRE086V8"
      }
    },
    {
      "cell_type": "markdown",
      "source": [
        "#Q66)How can you pick a random item from a list or tuple?\n",
        "Generate a random item from the tuple using random. choice() method(This function returns a random element from the specified sequence i.e tuple here) by passing the input tuple as an argument to the choice() function. Print the generated random tuple item."
      ],
      "metadata": {
        "id": "9PRKV9YQ9Mq5"
      }
    },
    {
      "cell_type": "markdown",
      "source": [
        "#Q67)How can you pick a random item from a range?\n",
        "Using random.randrange() function.\n",
        "\n",
        "Using random.randint() function.\n",
        "\n",
        "Using random.random() function.\n",
        "\n",
        "Using random.sample()."
      ],
      "metadata": {
        "id": "Xqg-BGOX9ZEU"
      }
    }
  ]
}